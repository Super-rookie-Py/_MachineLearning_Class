{
  "nbformat": 4,
  "nbformat_minor": 0,
  "metadata": {
    "colab": {
      "name": "박건우- 실전 머신러닝 .ipynb",
      "provenance": [],
      "authorship_tag": "ABX9TyM6HVM+vU8bS2VY8n6EhkNU",
      "include_colab_link": true
    },
    "kernelspec": {
      "name": "python3",
      "display_name": "Python 3"
    }
  },
  "cells": [
    {
      "cell_type": "markdown",
      "metadata": {
        "id": "view-in-github",
        "colab_type": "text"
      },
      "source": [
        "<a href=\"https://colab.research.google.com/github/Super-rookie-Py/_MachineLearning_Class/blob/main/%EB%B0%95%EA%B1%B4%EC%9A%B0_%EC%8B%A4%EC%A0%84_%EB%A8%B8%EC%8B%A0%EB%9F%AC%EB%8B%9D_.ipynb\" target=\"_parent\"><img src=\"https://colab.research.google.com/assets/colab-badge.svg\" alt=\"Open In Colab\"/></a>"
      ]
    },
    {
      "cell_type": "code",
      "metadata": {
        "id": "ueEC4NQv5KS1",
        "outputId": "19bb2b42-032c-425f-c772-03641857a6dc",
        "colab": {
          "base_uri": "https://localhost:8080/",
          "height": 34
        }
      },
      "source": [
        "from google.colab import drive\n",
        "drive.mount('/content/gdrive/')\n"
      ],
      "execution_count": 1,
      "outputs": [
        {
          "output_type": "stream",
          "text": [
            "Drive already mounted at /content/gdrive/; to attempt to forcibly remount, call drive.mount(\"/content/gdrive/\", force_remount=True).\n"
          ],
          "name": "stdout"
        }
      ]
    },
    {
      "cell_type": "code",
      "metadata": {
        "id": "qG0GM_-j5tQL"
      },
      "source": [
        "import pandas as pd\n",
        "import numpy as np\n",
        "import matplotlib.pyplot as plt\n",
        "plt.style.use([\"seaborn-whitegrid\"])"
      ],
      "execution_count": 2,
      "outputs": []
    },
    {
      "cell_type": "markdown",
      "metadata": {
        "id": "2rC0ZHG76b37"
      },
      "source": [
        "## 캐글에서 찾은 심부전증(heart failure)에 대한 데이터셋\n",
        "\n",
        "- https://www.kaggle.com/andrewmvd/heart-failure-clinical-data"
      ]
    },
    {
      "cell_type": "markdown",
      "metadata": {
        "id": "XFESCsIF6rX6"
      },
      "source": [
        "### 컬럼 정보\n",
        "- age: 나이\n",
        "- anaemia: 빈혈증 여부\n",
        "- creatinine_phosphokinase:  혈액 1리터에 들어있는 다양한 조직 및 세포 유형에 의해 발현되는 효소(CPK)의 수치 (mcg/L)\n",
        "- diabetes: 당뇨병 여부\n",
        "- ejection_fraction: 심장 수축시의 이동하는 혈액의 비율\n",
        "- high_blood_pressure: 고혈압 여부\n",
        "- platelets: 혈액속의 혈소판양 (kiloplatelets/mL)\n",
        "- serum_creatinine: 혈액속의 크레아틴 양(mg/dL)\n",
        "- serum_sodium: 혈액의 나트륨수치 (mEq/L)\n",
        "- sex: 성별\n",
        "- smoking: 흡연 여부\n",
        "- time: 후속기간\n",
        "\n",
        "- DEATH_EVENT: 사망 여부\n"
      ]
    },
    {
      "cell_type": "code",
      "metadata": {
        "id": "XD8q6EJe6Ajm",
        "outputId": "40074b22-86c2-4722-a1b2-43426b77e702",
        "colab": {
          "base_uri": "https://localhost:8080/",
          "height": 426
        }
      },
      "source": [
        "heart = pd.read_csv(\"/content/gdrive/My Drive/heart_failure.csv\")\n",
        "\n",
        "heart"
      ],
      "execution_count": 3,
      "outputs": [
        {
          "output_type": "execute_result",
          "data": {
            "text/html": [
              "<div>\n",
              "<style scoped>\n",
              "    .dataframe tbody tr th:only-of-type {\n",
              "        vertical-align: middle;\n",
              "    }\n",
              "\n",
              "    .dataframe tbody tr th {\n",
              "        vertical-align: top;\n",
              "    }\n",
              "\n",
              "    .dataframe thead th {\n",
              "        text-align: right;\n",
              "    }\n",
              "</style>\n",
              "<table border=\"1\" class=\"dataframe\">\n",
              "  <thead>\n",
              "    <tr style=\"text-align: right;\">\n",
              "      <th></th>\n",
              "      <th>age</th>\n",
              "      <th>anaemia</th>\n",
              "      <th>creatinine_phosphokinase</th>\n",
              "      <th>diabetes</th>\n",
              "      <th>ejection_fraction</th>\n",
              "      <th>high_blood_pressure</th>\n",
              "      <th>platelets</th>\n",
              "      <th>serum_creatinine</th>\n",
              "      <th>serum_sodium</th>\n",
              "      <th>sex</th>\n",
              "      <th>smoking</th>\n",
              "      <th>time</th>\n",
              "      <th>DEATH_EVENT</th>\n",
              "    </tr>\n",
              "  </thead>\n",
              "  <tbody>\n",
              "    <tr>\n",
              "      <th>0</th>\n",
              "      <td>75.0</td>\n",
              "      <td>0</td>\n",
              "      <td>582</td>\n",
              "      <td>0</td>\n",
              "      <td>20</td>\n",
              "      <td>1</td>\n",
              "      <td>265000.00</td>\n",
              "      <td>1.9</td>\n",
              "      <td>130</td>\n",
              "      <td>1</td>\n",
              "      <td>0</td>\n",
              "      <td>4</td>\n",
              "      <td>1</td>\n",
              "    </tr>\n",
              "    <tr>\n",
              "      <th>1</th>\n",
              "      <td>55.0</td>\n",
              "      <td>0</td>\n",
              "      <td>7861</td>\n",
              "      <td>0</td>\n",
              "      <td>38</td>\n",
              "      <td>0</td>\n",
              "      <td>263358.03</td>\n",
              "      <td>1.1</td>\n",
              "      <td>136</td>\n",
              "      <td>1</td>\n",
              "      <td>0</td>\n",
              "      <td>6</td>\n",
              "      <td>1</td>\n",
              "    </tr>\n",
              "    <tr>\n",
              "      <th>2</th>\n",
              "      <td>65.0</td>\n",
              "      <td>0</td>\n",
              "      <td>146</td>\n",
              "      <td>0</td>\n",
              "      <td>20</td>\n",
              "      <td>0</td>\n",
              "      <td>162000.00</td>\n",
              "      <td>1.3</td>\n",
              "      <td>129</td>\n",
              "      <td>1</td>\n",
              "      <td>1</td>\n",
              "      <td>7</td>\n",
              "      <td>1</td>\n",
              "    </tr>\n",
              "    <tr>\n",
              "      <th>3</th>\n",
              "      <td>50.0</td>\n",
              "      <td>1</td>\n",
              "      <td>111</td>\n",
              "      <td>0</td>\n",
              "      <td>20</td>\n",
              "      <td>0</td>\n",
              "      <td>210000.00</td>\n",
              "      <td>1.9</td>\n",
              "      <td>137</td>\n",
              "      <td>1</td>\n",
              "      <td>0</td>\n",
              "      <td>7</td>\n",
              "      <td>1</td>\n",
              "    </tr>\n",
              "    <tr>\n",
              "      <th>4</th>\n",
              "      <td>65.0</td>\n",
              "      <td>1</td>\n",
              "      <td>160</td>\n",
              "      <td>1</td>\n",
              "      <td>20</td>\n",
              "      <td>0</td>\n",
              "      <td>327000.00</td>\n",
              "      <td>2.7</td>\n",
              "      <td>116</td>\n",
              "      <td>0</td>\n",
              "      <td>0</td>\n",
              "      <td>8</td>\n",
              "      <td>1</td>\n",
              "    </tr>\n",
              "    <tr>\n",
              "      <th>...</th>\n",
              "      <td>...</td>\n",
              "      <td>...</td>\n",
              "      <td>...</td>\n",
              "      <td>...</td>\n",
              "      <td>...</td>\n",
              "      <td>...</td>\n",
              "      <td>...</td>\n",
              "      <td>...</td>\n",
              "      <td>...</td>\n",
              "      <td>...</td>\n",
              "      <td>...</td>\n",
              "      <td>...</td>\n",
              "      <td>...</td>\n",
              "    </tr>\n",
              "    <tr>\n",
              "      <th>294</th>\n",
              "      <td>62.0</td>\n",
              "      <td>0</td>\n",
              "      <td>61</td>\n",
              "      <td>1</td>\n",
              "      <td>38</td>\n",
              "      <td>1</td>\n",
              "      <td>155000.00</td>\n",
              "      <td>1.1</td>\n",
              "      <td>143</td>\n",
              "      <td>1</td>\n",
              "      <td>1</td>\n",
              "      <td>270</td>\n",
              "      <td>0</td>\n",
              "    </tr>\n",
              "    <tr>\n",
              "      <th>295</th>\n",
              "      <td>55.0</td>\n",
              "      <td>0</td>\n",
              "      <td>1820</td>\n",
              "      <td>0</td>\n",
              "      <td>38</td>\n",
              "      <td>0</td>\n",
              "      <td>270000.00</td>\n",
              "      <td>1.2</td>\n",
              "      <td>139</td>\n",
              "      <td>0</td>\n",
              "      <td>0</td>\n",
              "      <td>271</td>\n",
              "      <td>0</td>\n",
              "    </tr>\n",
              "    <tr>\n",
              "      <th>296</th>\n",
              "      <td>45.0</td>\n",
              "      <td>0</td>\n",
              "      <td>2060</td>\n",
              "      <td>1</td>\n",
              "      <td>60</td>\n",
              "      <td>0</td>\n",
              "      <td>742000.00</td>\n",
              "      <td>0.8</td>\n",
              "      <td>138</td>\n",
              "      <td>0</td>\n",
              "      <td>0</td>\n",
              "      <td>278</td>\n",
              "      <td>0</td>\n",
              "    </tr>\n",
              "    <tr>\n",
              "      <th>297</th>\n",
              "      <td>45.0</td>\n",
              "      <td>0</td>\n",
              "      <td>2413</td>\n",
              "      <td>0</td>\n",
              "      <td>38</td>\n",
              "      <td>0</td>\n",
              "      <td>140000.00</td>\n",
              "      <td>1.4</td>\n",
              "      <td>140</td>\n",
              "      <td>1</td>\n",
              "      <td>1</td>\n",
              "      <td>280</td>\n",
              "      <td>0</td>\n",
              "    </tr>\n",
              "    <tr>\n",
              "      <th>298</th>\n",
              "      <td>50.0</td>\n",
              "      <td>0</td>\n",
              "      <td>196</td>\n",
              "      <td>0</td>\n",
              "      <td>45</td>\n",
              "      <td>0</td>\n",
              "      <td>395000.00</td>\n",
              "      <td>1.6</td>\n",
              "      <td>136</td>\n",
              "      <td>1</td>\n",
              "      <td>1</td>\n",
              "      <td>285</td>\n",
              "      <td>0</td>\n",
              "    </tr>\n",
              "  </tbody>\n",
              "</table>\n",
              "<p>299 rows × 13 columns</p>\n",
              "</div>"
            ],
            "text/plain": [
              "      age  anaemia  creatinine_phosphokinase  ...  smoking  time  DEATH_EVENT\n",
              "0    75.0        0                       582  ...        0     4            1\n",
              "1    55.0        0                      7861  ...        0     6            1\n",
              "2    65.0        0                       146  ...        1     7            1\n",
              "3    50.0        1                       111  ...        0     7            1\n",
              "4    65.0        1                       160  ...        0     8            1\n",
              "..    ...      ...                       ...  ...      ...   ...          ...\n",
              "294  62.0        0                        61  ...        1   270            0\n",
              "295  55.0        0                      1820  ...        0   271            0\n",
              "296  45.0        0                      2060  ...        0   278            0\n",
              "297  45.0        0                      2413  ...        1   280            0\n",
              "298  50.0        0                       196  ...        1   285            0\n",
              "\n",
              "[299 rows x 13 columns]"
            ]
          },
          "metadata": {
            "tags": []
          },
          "execution_count": 3
        }
      ]
    },
    {
      "cell_type": "code",
      "metadata": {
        "id": "53VVDJC36Pin",
        "outputId": "b7aa1b18-1cc5-46dc-96b4-5b978d04f615",
        "colab": {
          "base_uri": "https://localhost:8080/",
          "height": 640
        }
      },
      "source": [
        "heart_data_df = heart.loc[:,\"age\":\"time\"]\n",
        "heart_target_df = heart[\"DEATH_EVENT\"]\n",
        "display(heart_data_df)\n",
        "display(heart_target_df)"
      ],
      "execution_count": 4,
      "outputs": [
        {
          "output_type": "display_data",
          "data": {
            "text/html": [
              "<div>\n",
              "<style scoped>\n",
              "    .dataframe tbody tr th:only-of-type {\n",
              "        vertical-align: middle;\n",
              "    }\n",
              "\n",
              "    .dataframe tbody tr th {\n",
              "        vertical-align: top;\n",
              "    }\n",
              "\n",
              "    .dataframe thead th {\n",
              "        text-align: right;\n",
              "    }\n",
              "</style>\n",
              "<table border=\"1\" class=\"dataframe\">\n",
              "  <thead>\n",
              "    <tr style=\"text-align: right;\">\n",
              "      <th></th>\n",
              "      <th>age</th>\n",
              "      <th>anaemia</th>\n",
              "      <th>creatinine_phosphokinase</th>\n",
              "      <th>diabetes</th>\n",
              "      <th>ejection_fraction</th>\n",
              "      <th>high_blood_pressure</th>\n",
              "      <th>platelets</th>\n",
              "      <th>serum_creatinine</th>\n",
              "      <th>serum_sodium</th>\n",
              "      <th>sex</th>\n",
              "      <th>smoking</th>\n",
              "      <th>time</th>\n",
              "    </tr>\n",
              "  </thead>\n",
              "  <tbody>\n",
              "    <tr>\n",
              "      <th>0</th>\n",
              "      <td>75.0</td>\n",
              "      <td>0</td>\n",
              "      <td>582</td>\n",
              "      <td>0</td>\n",
              "      <td>20</td>\n",
              "      <td>1</td>\n",
              "      <td>265000.00</td>\n",
              "      <td>1.9</td>\n",
              "      <td>130</td>\n",
              "      <td>1</td>\n",
              "      <td>0</td>\n",
              "      <td>4</td>\n",
              "    </tr>\n",
              "    <tr>\n",
              "      <th>1</th>\n",
              "      <td>55.0</td>\n",
              "      <td>0</td>\n",
              "      <td>7861</td>\n",
              "      <td>0</td>\n",
              "      <td>38</td>\n",
              "      <td>0</td>\n",
              "      <td>263358.03</td>\n",
              "      <td>1.1</td>\n",
              "      <td>136</td>\n",
              "      <td>1</td>\n",
              "      <td>0</td>\n",
              "      <td>6</td>\n",
              "    </tr>\n",
              "    <tr>\n",
              "      <th>2</th>\n",
              "      <td>65.0</td>\n",
              "      <td>0</td>\n",
              "      <td>146</td>\n",
              "      <td>0</td>\n",
              "      <td>20</td>\n",
              "      <td>0</td>\n",
              "      <td>162000.00</td>\n",
              "      <td>1.3</td>\n",
              "      <td>129</td>\n",
              "      <td>1</td>\n",
              "      <td>1</td>\n",
              "      <td>7</td>\n",
              "    </tr>\n",
              "    <tr>\n",
              "      <th>3</th>\n",
              "      <td>50.0</td>\n",
              "      <td>1</td>\n",
              "      <td>111</td>\n",
              "      <td>0</td>\n",
              "      <td>20</td>\n",
              "      <td>0</td>\n",
              "      <td>210000.00</td>\n",
              "      <td>1.9</td>\n",
              "      <td>137</td>\n",
              "      <td>1</td>\n",
              "      <td>0</td>\n",
              "      <td>7</td>\n",
              "    </tr>\n",
              "    <tr>\n",
              "      <th>4</th>\n",
              "      <td>65.0</td>\n",
              "      <td>1</td>\n",
              "      <td>160</td>\n",
              "      <td>1</td>\n",
              "      <td>20</td>\n",
              "      <td>0</td>\n",
              "      <td>327000.00</td>\n",
              "      <td>2.7</td>\n",
              "      <td>116</td>\n",
              "      <td>0</td>\n",
              "      <td>0</td>\n",
              "      <td>8</td>\n",
              "    </tr>\n",
              "    <tr>\n",
              "      <th>...</th>\n",
              "      <td>...</td>\n",
              "      <td>...</td>\n",
              "      <td>...</td>\n",
              "      <td>...</td>\n",
              "      <td>...</td>\n",
              "      <td>...</td>\n",
              "      <td>...</td>\n",
              "      <td>...</td>\n",
              "      <td>...</td>\n",
              "      <td>...</td>\n",
              "      <td>...</td>\n",
              "      <td>...</td>\n",
              "    </tr>\n",
              "    <tr>\n",
              "      <th>294</th>\n",
              "      <td>62.0</td>\n",
              "      <td>0</td>\n",
              "      <td>61</td>\n",
              "      <td>1</td>\n",
              "      <td>38</td>\n",
              "      <td>1</td>\n",
              "      <td>155000.00</td>\n",
              "      <td>1.1</td>\n",
              "      <td>143</td>\n",
              "      <td>1</td>\n",
              "      <td>1</td>\n",
              "      <td>270</td>\n",
              "    </tr>\n",
              "    <tr>\n",
              "      <th>295</th>\n",
              "      <td>55.0</td>\n",
              "      <td>0</td>\n",
              "      <td>1820</td>\n",
              "      <td>0</td>\n",
              "      <td>38</td>\n",
              "      <td>0</td>\n",
              "      <td>270000.00</td>\n",
              "      <td>1.2</td>\n",
              "      <td>139</td>\n",
              "      <td>0</td>\n",
              "      <td>0</td>\n",
              "      <td>271</td>\n",
              "    </tr>\n",
              "    <tr>\n",
              "      <th>296</th>\n",
              "      <td>45.0</td>\n",
              "      <td>0</td>\n",
              "      <td>2060</td>\n",
              "      <td>1</td>\n",
              "      <td>60</td>\n",
              "      <td>0</td>\n",
              "      <td>742000.00</td>\n",
              "      <td>0.8</td>\n",
              "      <td>138</td>\n",
              "      <td>0</td>\n",
              "      <td>0</td>\n",
              "      <td>278</td>\n",
              "    </tr>\n",
              "    <tr>\n",
              "      <th>297</th>\n",
              "      <td>45.0</td>\n",
              "      <td>0</td>\n",
              "      <td>2413</td>\n",
              "      <td>0</td>\n",
              "      <td>38</td>\n",
              "      <td>0</td>\n",
              "      <td>140000.00</td>\n",
              "      <td>1.4</td>\n",
              "      <td>140</td>\n",
              "      <td>1</td>\n",
              "      <td>1</td>\n",
              "      <td>280</td>\n",
              "    </tr>\n",
              "    <tr>\n",
              "      <th>298</th>\n",
              "      <td>50.0</td>\n",
              "      <td>0</td>\n",
              "      <td>196</td>\n",
              "      <td>0</td>\n",
              "      <td>45</td>\n",
              "      <td>0</td>\n",
              "      <td>395000.00</td>\n",
              "      <td>1.6</td>\n",
              "      <td>136</td>\n",
              "      <td>1</td>\n",
              "      <td>1</td>\n",
              "      <td>285</td>\n",
              "    </tr>\n",
              "  </tbody>\n",
              "</table>\n",
              "<p>299 rows × 12 columns</p>\n",
              "</div>"
            ],
            "text/plain": [
              "      age  anaemia  creatinine_phosphokinase  ...  sex  smoking  time\n",
              "0    75.0        0                       582  ...    1        0     4\n",
              "1    55.0        0                      7861  ...    1        0     6\n",
              "2    65.0        0                       146  ...    1        1     7\n",
              "3    50.0        1                       111  ...    1        0     7\n",
              "4    65.0        1                       160  ...    0        0     8\n",
              "..    ...      ...                       ...  ...  ...      ...   ...\n",
              "294  62.0        0                        61  ...    1        1   270\n",
              "295  55.0        0                      1820  ...    0        0   271\n",
              "296  45.0        0                      2060  ...    0        0   278\n",
              "297  45.0        0                      2413  ...    1        1   280\n",
              "298  50.0        0                       196  ...    1        1   285\n",
              "\n",
              "[299 rows x 12 columns]"
            ]
          },
          "metadata": {
            "tags": []
          }
        },
        {
          "output_type": "display_data",
          "data": {
            "text/plain": [
              "0      1\n",
              "1      1\n",
              "2      1\n",
              "3      1\n",
              "4      1\n",
              "      ..\n",
              "294    0\n",
              "295    0\n",
              "296    0\n",
              "297    0\n",
              "298    0\n",
              "Name: DEATH_EVENT, Length: 299, dtype: int64"
            ]
          },
          "metadata": {
            "tags": []
          }
        }
      ]
    },
    {
      "cell_type": "code",
      "metadata": {
        "id": "YEA-vYm2-tZI"
      },
      "source": [
        "from sklearn.preprocessing import StandardScaler\n",
        "from sklearn.pipeline import make_pipeline\n",
        "from sklearn.model_selection import cross_validate , cross_val_score, train_test_split\n",
        "\n",
        "from sklearn.ensemble import BaggingClassifier\n",
        "from sklearn.neighbors import KNeighborsClassifier\n",
        "from sklearn.svm import SVC\n",
        "from sklearn.tree import DecisionTreeClassifier\n",
        "from sklearn.ensemble import RandomForestClassifier, ExtraTreesClassifier"
      ],
      "execution_count": 5,
      "outputs": []
    },
    {
      "cell_type": "code",
      "metadata": {
        "id": "pCrCR1QPBeyX",
        "outputId": "1d982d62-6efa-4dce-c8a7-94b6c4ee0f53",
        "colab": {
          "base_uri": "https://localhost:8080/",
          "height": 247
        }
      },
      "source": [
        "heart_data = heart_data_df.to_numpy()\n",
        "heart_target = heart_target_df.to_numpy()\n",
        "heart_data"
      ],
      "execution_count": 6,
      "outputs": [
        {
          "output_type": "execute_result",
          "data": {
            "text/plain": [
              "array([[7.500e+01, 0.000e+00, 5.820e+02, ..., 1.000e+00, 0.000e+00,\n",
              "        4.000e+00],\n",
              "       [5.500e+01, 0.000e+00, 7.861e+03, ..., 1.000e+00, 0.000e+00,\n",
              "        6.000e+00],\n",
              "       [6.500e+01, 0.000e+00, 1.460e+02, ..., 1.000e+00, 1.000e+00,\n",
              "        7.000e+00],\n",
              "       ...,\n",
              "       [4.500e+01, 0.000e+00, 2.060e+03, ..., 0.000e+00, 0.000e+00,\n",
              "        2.780e+02],\n",
              "       [4.500e+01, 0.000e+00, 2.413e+03, ..., 1.000e+00, 1.000e+00,\n",
              "        2.800e+02],\n",
              "       [5.000e+01, 0.000e+00, 1.960e+02, ..., 1.000e+00, 1.000e+00,\n",
              "        2.850e+02]])"
            ]
          },
          "metadata": {
            "tags": []
          },
          "execution_count": 6
        }
      ]
    },
    {
      "cell_type": "code",
      "metadata": {
        "id": "N5CpEDAYBz6J",
        "outputId": "7071b061-b97d-4610-fe85-1c8ac61bfd32",
        "colab": {
          "base_uri": "https://localhost:8080/",
          "height": 265
        }
      },
      "source": [
        "heart_target"
      ],
      "execution_count": 7,
      "outputs": [
        {
          "output_type": "execute_result",
          "data": {
            "text/plain": [
              "array([1, 1, 1, 1, 1, 1, 1, 1, 1, 1, 1, 1, 1, 1, 0, 1, 1, 1, 1, 1, 0, 1,\n",
              "       1, 0, 1, 1, 1, 1, 1, 1, 1, 1, 1, 0, 1, 1, 1, 1, 0, 1, 1, 1, 1, 0,\n",
              "       1, 1, 1, 1, 1, 1, 1, 1, 1, 1, 1, 1, 0, 0, 1, 1, 1, 1, 0, 1, 0, 1,\n",
              "       1, 1, 1, 1, 0, 0, 1, 0, 1, 1, 0, 0, 0, 0, 0, 0, 1, 0, 1, 0, 0, 0,\n",
              "       0, 0, 0, 0, 0, 1, 0, 0, 0, 0, 0, 0, 0, 0, 0, 0, 0, 1, 0, 0, 0, 0,\n",
              "       1, 0, 0, 1, 0, 0, 0, 0, 0, 1, 0, 0, 0, 0, 1, 0, 1, 0, 0, 0, 0, 0,\n",
              "       0, 0, 0, 0, 0, 0, 0, 0, 1, 0, 0, 0, 1, 0, 0, 0, 1, 0, 1, 0, 0, 0,\n",
              "       0, 0, 0, 0, 0, 0, 0, 0, 0, 1, 1, 1, 0, 1, 0, 0, 0, 0, 0, 0, 0, 0,\n",
              "       0, 0, 0, 0, 0, 1, 1, 1, 1, 1, 1, 1, 0, 0, 0, 0, 0, 0, 1, 1, 0, 0,\n",
              "       0, 0, 0, 0, 0, 0, 0, 0, 0, 0, 0, 0, 0, 0, 0, 1, 0, 0, 0, 1, 0, 0,\n",
              "       1, 0, 0, 0, 0, 0, 0, 0, 0, 0, 1, 0, 0, 0, 0, 0, 0, 0, 0, 0, 0, 0,\n",
              "       0, 0, 0, 0, 1, 0, 0, 0, 0, 0, 0, 0, 0, 0, 0, 0, 0, 0, 0, 0, 1, 0,\n",
              "       0, 0, 1, 0, 0, 0, 0, 0, 0, 0, 0, 0, 0, 0, 0, 0, 0, 0, 0, 0, 0, 0,\n",
              "       0, 0, 0, 0, 0, 0, 0, 0, 0, 0, 0, 0, 0])"
            ]
          },
          "metadata": {
            "tags": []
          },
          "execution_count": 7
        }
      ]
    },
    {
      "cell_type": "code",
      "metadata": {
        "id": "0dGpMFiGCTO5"
      },
      "source": [
        "X_train, X_test, y_train, y_test = train_test_split(heart_data, heart_target, test_size = 0.2)"
      ],
      "execution_count": 8,
      "outputs": []
    },
    {
      "cell_type": "markdown",
      "metadata": {
        "id": "R7r11LhjEn7-"
      },
      "source": [
        "### SVC 분류(전처리 없이 진행)"
      ]
    },
    {
      "cell_type": "code",
      "metadata": {
        "id": "ftwDOlQyD-EO",
        "outputId": "f8365a7f-eff7-428d-cbe3-42e7dfa732d1",
        "colab": {
          "base_uri": "https://localhost:8080/",
          "height": 70
        }
      },
      "source": [
        "model = SVC()\n",
        "\n",
        "cross_val = cross_validate(\n",
        "    estimator = model,\n",
        "    X = heart_data, y= heart_target,\n",
        "    cv=5\n",
        ")\n",
        "print(\"avg fit time: {}(+/-{}\".format(cross_val['fit_time'].mean(), cross_val[\"fit_time\"].std()))\n",
        "print(\"avg score time: {}(+/-{}\".format(cross_val['score_time'].mean(), cross_val[\"score_time\"].std()))\n",
        "print(\"avg test score: {}(+/-{}\".format(cross_val['test_score'].mean(), cross_val[\"test_score\"].std()))"
      ],
      "execution_count": 9,
      "outputs": [
        {
          "output_type": "stream",
          "text": [
            "avg fit time: 0.004380607604980468(+/-0.0013159046776902948\n",
            "avg score time: 0.0012134552001953126(+/-0.0005279874816923539\n",
            "avg test score: 0.6789265536723164(+/-0.006472811110088906\n"
          ],
          "name": "stdout"
        }
      ]
    },
    {
      "cell_type": "markdown",
      "metadata": {
        "id": "OR99pOFjE4XH"
      },
      "source": [
        "### SVC 전처리 후 "
      ]
    },
    {
      "cell_type": "code",
      "metadata": {
        "id": "VmwPk4KjEt4_",
        "outputId": "b24f799d-62ad-4f31-bafd-f52829f18604",
        "colab": {
          "base_uri": "https://localhost:8080/",
          "height": 70
        }
      },
      "source": [
        "model = make_pipeline(\n",
        "    StandardScaler(),\n",
        "    SVC()\n",
        ")\n",
        "\n",
        "cross_val = cross_validate(\n",
        "    estimator = model,\n",
        "    X = heart_data, y= heart_target,\n",
        "    cv=5\n",
        ")\n",
        "print(\"avg fit time: {}(+/-{}\".format(cross_val['fit_time'].mean(), cross_val[\"fit_time\"].std()))\n",
        "print(\"avg score time: {}(+/-{}\".format(cross_val['score_time'].mean(), cross_val[\"score_time\"].std()))\n",
        "print(\"avg test score: {}(+/-{}\".format(cross_val['test_score'].mean(), cross_val[\"test_score\"].std()))"
      ],
      "execution_count": 10,
      "outputs": [
        {
          "output_type": "stream",
          "text": [
            "avg fit time: 0.00344996452331543(+/-0.0006908725954621166\n",
            "avg score time: 0.0008024692535400391(+/-3.93757215861103e-05\n",
            "avg test score: 0.775593220338983(+/-0.04993870928244777\n"
          ],
          "name": "stdout"
        }
      ]
    },
    {
      "cell_type": "markdown",
      "metadata": {
        "id": "TEveSAAaFwAE"
      },
      "source": [
        "### bagging SVC"
      ]
    },
    {
      "cell_type": "code",
      "metadata": {
        "id": "Uodq8J5BFyaD",
        "outputId": "c7be7f89-63b1-4eb4-f224-2def9d93b572",
        "colab": {
          "base_uri": "https://localhost:8080/",
          "height": 70
        }
      },
      "source": [
        "bagging_model = BaggingClassifier(model, n_estimators=10, max_samples=0.5,\n",
        "                                  max_features=0.5)\n",
        "\n",
        "cross_val = cross_validate(\n",
        "    estimator = bagging_model,\n",
        "    X = heart_data, y= heart_target,\n",
        "    cv=5\n",
        ")\n",
        "print(\"avg fit time: {}(+/-{}\".format(cross_val['fit_time'].mean(), cross_val[\"fit_time\"].std()))\n",
        "print(\"avg score time: {}(+/-{}\".format(cross_val['score_time'].mean(), cross_val[\"score_time\"].std()))\n",
        "print(\"avg test score: {}(+/-{}\".format(cross_val['test_score'].mean(), cross_val[\"test_score\"].std()))"
      ],
      "execution_count": 11,
      "outputs": [
        {
          "output_type": "stream",
          "text": [
            "avg fit time: 0.029489660263061525(+/-0.00219334879202018\n",
            "avg score time: 0.004488754272460938(+/-0.00024726746590331676\n",
            "avg test score: 0.7389265536723164(+/-0.04312307655858768\n"
          ],
          "name": "stdout"
        }
      ]
    },
    {
      "cell_type": "markdown",
      "metadata": {
        "id": "Sz3odyB6DWvT"
      },
      "source": [
        "### RandomForest 분류"
      ]
    },
    {
      "cell_type": "code",
      "metadata": {
        "id": "KVMaEq4pC-6h"
      },
      "source": [
        "model = make_pipeline(\n",
        "    StandardScaler(),\n",
        "    RandomForestClassifier()\n",
        ")"
      ],
      "execution_count": 12,
      "outputs": []
    },
    {
      "cell_type": "code",
      "metadata": {
        "id": "eIWt60DxDCr7",
        "outputId": "455a14d5-d7a6-4722-fc68-24f50187e139",
        "colab": {
          "base_uri": "https://localhost:8080/",
          "height": 70
        }
      },
      "source": [
        "cross_val = cross_validate(\n",
        "    estimator = model,\n",
        "    X = heart_data, y= heart_target,\n",
        "    cv=5\n",
        ")\n",
        "print(\"avg fit time: {}(+/-{}\".format(cross_val['fit_time'].mean(), cross_val[\"fit_time\"].std()))\n",
        "print(\"avg score time: {}(+/-{}\".format(cross_val['score_time'].mean(), cross_val[\"score_time\"].std()))\n",
        "print(\"avg test score: {}(+/-{}\".format(cross_val['test_score'].mean(), cross_val[\"test_score\"].std()))"
      ],
      "execution_count": 13,
      "outputs": [
        {
          "output_type": "stream",
          "text": [
            "avg fit time: 0.13978242874145508(+/-0.0027653905149632933\n",
            "avg score time: 0.00855259895324707(+/-0.001148842355111926\n",
            "avg test score: 0.715593220338983(+/-0.12982276385273767\n"
          ],
          "name": "stdout"
        }
      ]
    },
    {
      "cell_type": "markdown",
      "metadata": {
        "id": "_A6Uun-ADkCk"
      },
      "source": [
        "### Extremely Randomized Trees 분류"
      ]
    },
    {
      "cell_type": "code",
      "metadata": {
        "id": "TdW6WaiNDRXE"
      },
      "source": [
        "model = make_pipeline(\n",
        "    StandardScaler(),\n",
        "    ExtraTreesClassifier()\n",
        ")"
      ],
      "execution_count": 14,
      "outputs": []
    },
    {
      "cell_type": "code",
      "metadata": {
        "id": "HhMqc7S6D0va",
        "outputId": "62813df0-2305-4fe0-eb13-b1198c250e72",
        "colab": {
          "base_uri": "https://localhost:8080/",
          "height": 70
        }
      },
      "source": [
        "cross_val = cross_validate(\n",
        "    estimator = model,\n",
        "    X = heart_data, y= heart_target,\n",
        "    cv=5\n",
        ")\n",
        "print(\"avg fit time: {}(+/-{}\".format(cross_val['fit_time'].mean(), cross_val[\"fit_time\"].std()))\n",
        "print(\"avg score time: {}(+/-{}\".format(cross_val['score_time'].mean(), cross_val[\"score_time\"].std()))\n",
        "print(\"avg test score: {}(+/-{}\".format(cross_val['test_score'].mean(), cross_val[\"test_score\"].std()))"
      ],
      "execution_count": 15,
      "outputs": [
        {
          "output_type": "stream",
          "text": [
            "avg fit time: 0.10456209182739258(+/-0.0031174154756566205\n",
            "avg score time: 0.00859065055847168(+/-0.00012002952675094795\n",
            "avg test score: 0.7255932203389831(+/-0.06189486647915897\n"
          ],
          "name": "stdout"
        }
      ]
    },
    {
      "cell_type": "markdown",
      "metadata": {
        "id": "5PP353fmFLiZ"
      },
      "source": [
        "### bagging을 사용한 KNN 분류"
      ]
    },
    {
      "cell_type": "code",
      "metadata": {
        "id": "Okp32LH7D5J4"
      },
      "source": [
        "base_model = make_pipeline(\n",
        "    StandardScaler(),\n",
        "    KNeighborsClassifier()\n",
        ")\n",
        "\n",
        "bagging_model = BaggingClassifier(base_model, n_estimators=10, max_samples=0.5,\n",
        "                                  max_features=0.5)"
      ],
      "execution_count": 16,
      "outputs": []
    },
    {
      "cell_type": "markdown",
      "metadata": {
        "id": "21YkLmh2FXyw"
      },
      "source": [
        "- base 모델 결과"
      ]
    },
    {
      "cell_type": "code",
      "metadata": {
        "id": "tTthylERFPIC",
        "outputId": "9d5984c4-2935-40e8-c0f1-bcf9b15762ea",
        "colab": {
          "base_uri": "https://localhost:8080/",
          "height": 70
        }
      },
      "source": [
        "cross_val = cross_validate(\n",
        "    estimator = base_model,\n",
        "    X = heart_data, y= heart_target,\n",
        "    cv=5\n",
        ")\n",
        "print(\"avg fit time: {}(+/-{}\".format(cross_val['fit_time'].mean(), cross_val[\"fit_time\"].std()))\n",
        "print(\"avg score time: {}(+/-{}\".format(cross_val['score_time'].mean(), cross_val[\"score_time\"].std()))\n",
        "print(\"avg test score: {}(+/-{}\".format(cross_val['test_score'].mean(), cross_val[\"test_score\"].std()))"
      ],
      "execution_count": 17,
      "outputs": [
        {
          "output_type": "stream",
          "text": [
            "avg fit time: 0.0021853923797607424(+/-0.0017109447051619272\n",
            "avg score time: 0.0030495643615722655(+/-0.0003989437331248998\n",
            "avg test score: 0.7289830508474576(+/-0.029788855528371516\n"
          ],
          "name": "stdout"
        }
      ]
    },
    {
      "cell_type": "markdown",
      "metadata": {
        "id": "6ZA1ygQ3FdmU"
      },
      "source": [
        "- bagging 모델 결과"
      ]
    },
    {
      "cell_type": "code",
      "metadata": {
        "id": "GVvhkQUwFcOL",
        "outputId": "08f8c946-9d59-443b-f88f-d51d4c8e34f8",
        "colab": {
          "base_uri": "https://localhost:8080/",
          "height": 70
        }
      },
      "source": [
        "cross_val = cross_validate(\n",
        "    estimator = bagging_model,\n",
        "    X = heart_data, y= heart_target,\n",
        "    cv=5\n",
        ")\n",
        "print(\"avg fit time: {}(+/-{}\".format(cross_val['fit_time'].mean(), cross_val[\"fit_time\"].std()))\n",
        "print(\"avg score time: {}(+/-{}\".format(cross_val['score_time'].mean(), cross_val[\"score_time\"].std()))\n",
        "print(\"avg test score: {}(+/-{}\".format(cross_val['test_score'].mean(), cross_val[\"test_score\"].std()))"
      ],
      "execution_count": 18,
      "outputs": [
        {
          "output_type": "stream",
          "text": [
            "avg fit time: 0.01705799102783203(+/-0.0004152575097235208\n",
            "avg score time: 0.008341503143310548(+/-0.000265510422981784\n",
            "avg test score: 0.7389265536723164(+/-0.03761854977844534\n"
          ],
          "name": "stdout"
        }
      ]
    },
    {
      "cell_type": "markdown",
      "metadata": {
        "id": "xv4p4DIGGF3x"
      },
      "source": [
        "### AdaBoost 분류"
      ]
    },
    {
      "cell_type": "code",
      "metadata": {
        "id": "CI-Nrm2PFhXx"
      },
      "source": [
        "from sklearn.ensemble import AdaBoostClassifier"
      ],
      "execution_count": 19,
      "outputs": []
    },
    {
      "cell_type": "code",
      "metadata": {
        "id": "DxFiPT8JGKOD"
      },
      "source": [
        "model = make_pipeline(\n",
        "    StandardScaler(),\n",
        "    AdaBoostClassifier()\n",
        ")"
      ],
      "execution_count": 20,
      "outputs": []
    },
    {
      "cell_type": "code",
      "metadata": {
        "id": "9MbWqq0CGL4W",
        "outputId": "31117115-263c-4ad1-986e-8aff418c098a",
        "colab": {
          "base_uri": "https://localhost:8080/",
          "height": 70
        }
      },
      "source": [
        "cross_val = cross_validate(\n",
        "    estimator = model,\n",
        "    X = heart_data, y= heart_target,\n",
        "    cv=5\n",
        ")\n",
        "print(\"avg fit time: {}(+/-{}\".format(cross_val['fit_time'].mean(), cross_val[\"fit_time\"].std()))\n",
        "print(\"avg score time: {}(+/-{}\".format(cross_val['score_time'].mean(), cross_val[\"score_time\"].std()))\n",
        "print(\"avg test score: {}(+/-{}\".format(cross_val['test_score'].mean(), cross_val[\"test_score\"].std()))"
      ],
      "execution_count": 21,
      "outputs": [
        {
          "output_type": "stream",
          "text": [
            "avg fit time: 0.07447519302368164(+/-0.0023866961785940877\n",
            "avg score time: 0.007260179519653321(+/-0.0008410626437890255\n",
            "avg test score: 0.615593220338983(+/-0.09174441959380822\n"
          ],
          "name": "stdout"
        }
      ]
    },
    {
      "cell_type": "markdown",
      "metadata": {
        "id": "JOGg3zBWGaI5"
      },
      "source": [
        "### Gradient Tree Boosting"
      ]
    },
    {
      "cell_type": "code",
      "metadata": {
        "id": "Z6XZ_3mCGRCt"
      },
      "source": [
        "from sklearn.ensemble import GradientBoostingClassifier"
      ],
      "execution_count": 22,
      "outputs": []
    },
    {
      "cell_type": "code",
      "metadata": {
        "id": "hk053gPtGdgw"
      },
      "source": [
        "model = make_pipeline(\n",
        "    StandardScaler(),\n",
        "    GradientBoostingClassifier()\n",
        ")"
      ],
      "execution_count": 23,
      "outputs": []
    },
    {
      "cell_type": "code",
      "metadata": {
        "id": "SuMu3C-SGfAs",
        "outputId": "5465362a-a5bc-4e89-fa3b-11b133e05f91",
        "colab": {
          "base_uri": "https://localhost:8080/",
          "height": 70
        }
      },
      "source": [
        "cross_val = cross_validate(\n",
        "    estimator = model,\n",
        "    X = heart_data, y= heart_target,\n",
        "    cv=5\n",
        ")\n",
        "print(\"avg fit time: {}(+/-{}\".format(cross_val['fit_time'].mean(), cross_val[\"fit_time\"].std()))\n",
        "print(\"avg score time: {}(+/-{}\".format(cross_val['score_time'].mean(), cross_val[\"score_time\"].std()))\n",
        "print(\"avg test score: {}(+/-{}\".format(cross_val['test_score'].mean(), cross_val[\"test_score\"].std()))"
      ],
      "execution_count": 24,
      "outputs": [
        {
          "output_type": "stream",
          "text": [
            "avg fit time: 0.09207668304443359(+/-0.002755431393931833\n",
            "avg score time: 0.001070690155029297(+/-0.00039155533112944393\n",
            "avg test score: 0.6289265536723164(+/-0.11662426556066792\n"
          ],
          "name": "stdout"
        }
      ]
    },
    {
      "cell_type": "markdown",
      "metadata": {
        "id": "K6nfofMVGr8r"
      },
      "source": [
        "### 투표기반 분류"
      ]
    },
    {
      "cell_type": "code",
      "metadata": {
        "id": "IXO702lJGhz8"
      },
      "source": [
        "from sklearn.svm import SVC\n",
        "from sklearn.naive_bayes import GaussianNB\n",
        "from sklearn.ensemble import RandomForestClassifier\n",
        "from sklearn.ensemble import VotingClassifier\n",
        "from sklearn.model_selection import cross_val_score"
      ],
      "execution_count": 25,
      "outputs": []
    },
    {
      "cell_type": "code",
      "metadata": {
        "id": "EFyFX4MrGt8k"
      },
      "source": [
        "model1 = SVC()\n",
        "model2 = GaussianNB()\n",
        "model3 = RandomForestClassifier()\n",
        "\n",
        "vote_model = VotingClassifier(\n",
        "    estimators = [(\"svc\", model1), (\"naive\", model2), (\"forest\",model3)],\n",
        "    voting = \"hard\"\n",
        ")"
      ],
      "execution_count": 26,
      "outputs": []
    },
    {
      "cell_type": "markdown",
      "metadata": {
        "id": "tf-f0nZzHHF8"
      },
      "source": [
        "- Hard voting"
      ]
    },
    {
      "cell_type": "code",
      "metadata": {
        "id": "U6ghkf8UGxLq",
        "outputId": "0460d276-3724-434c-eaf9-cd99311075e4",
        "colab": {
          "base_uri": "https://localhost:8080/",
          "height": 87
        }
      },
      "source": [
        "for model in (model1, model2, model3, vote_model):\n",
        "  model_name = str(type(model)).split('.')[-1][:-2]\n",
        "  scores = cross_val_score(model, heart_data, heart_target, cv = 5)\n",
        "  print(\"Accurarcy: %0.2f (+/- %0.2f) [%s]\" % (scores.mean(), scores.std(), model_name))"
      ],
      "execution_count": 27,
      "outputs": [
        {
          "output_type": "stream",
          "text": [
            "Accurarcy: 0.68 (+/- 0.01) [SVC]\n",
            "Accurarcy: 0.75 (+/- 0.07) [GaussianNB]\n",
            "Accurarcy: 0.69 (+/- 0.15) [RandomForestClassifier]\n",
            "Accurarcy: 0.76 (+/- 0.08) [VotingClassifier]\n"
          ],
          "name": "stdout"
        }
      ]
    },
    {
      "cell_type": "code",
      "metadata": {
        "id": "urasGdIwG4MX"
      },
      "source": [
        "model1 = SVC(probability=True)\n",
        "model2 = GaussianNB()\n",
        "model3 = RandomForestClassifier()\n",
        "\n",
        "vote_model = VotingClassifier(\n",
        "    estimators = [(\"svc\", model1), (\"naive\", model2), (\"forest\",model3)],\n",
        "    voting = \"soft\",\n",
        "    weights = [2, 1, 2]\n",
        ")"
      ],
      "execution_count": 28,
      "outputs": []
    },
    {
      "cell_type": "markdown",
      "metadata": {
        "id": "9_pA3ebIHKzx"
      },
      "source": [
        "- Soft voting"
      ]
    },
    {
      "cell_type": "code",
      "metadata": {
        "id": "aT_x30bGHAGt",
        "outputId": "37c6a9c8-72af-4f55-e12d-99e1cee1905a",
        "colab": {
          "base_uri": "https://localhost:8080/",
          "height": 87
        }
      },
      "source": [
        "for model in (model1, model2, model3, vote_model):\n",
        "  model_name = str(type(model)).split('.')[-1][:-2]\n",
        "  scores = cross_val_score(model, heart_data, heart_target, cv = 5)\n",
        "  print(\"Accurarcy: %0.2f (+/- %0.2f) [%s]\" % (scores.mean(), scores.std(), model_name))"
      ],
      "execution_count": 29,
      "outputs": [
        {
          "output_type": "stream",
          "text": [
            "Accurarcy: 0.68 (+/- 0.01) [SVC]\n",
            "Accurarcy: 0.75 (+/- 0.07) [GaussianNB]\n",
            "Accurarcy: 0.70 (+/- 0.15) [RandomForestClassifier]\n",
            "Accurarcy: 0.73 (+/- 0.08) [VotingClassifier]\n"
          ],
          "name": "stdout"
        }
      ]
    },
    {
      "cell_type": "markdown",
      "metadata": {
        "id": "O1TZCX7rJuLh"
      },
      "source": [
        "### Stacking 분류"
      ]
    },
    {
      "cell_type": "code",
      "metadata": {
        "id": "vwcDVuYDKJjj"
      },
      "source": [
        "from sklearn.linear_model import LogisticRegression\n",
        "from sklearn.svm import SVC\n",
        "from sklearn.naive_bayes import GaussianNB\n",
        "from sklearn.ensemble import RandomForestClassifier\n",
        "from sklearn.ensemble import StackingClassifier"
      ],
      "execution_count": 30,
      "outputs": []
    },
    {
      "cell_type": "code",
      "metadata": {
        "id": "mPSwSkGLMBdC"
      },
      "source": [
        "estimators = [(\"logistic\", LogisticRegression(max_iter=10000)),\n",
        "              (\"svc\", SVC()),\n",
        "              ('naive', GaussianNB())]"
      ],
      "execution_count": 31,
      "outputs": []
    },
    {
      "cell_type": "code",
      "metadata": {
        "id": "5QEYjGdeMDth"
      },
      "source": [
        "clf = StackingClassifier(\n",
        "    estimators = estimators,\n",
        "    final_estimator = RandomForestClassifier()\n",
        ")"
      ],
      "execution_count": 32,
      "outputs": []
    },
    {
      "cell_type": "code",
      "metadata": {
        "id": "LzY-lOYAMGes",
        "outputId": "a88e688b-8604-427d-d4b7-73b2b01de872",
        "colab": {
          "base_uri": "https://localhost:8080/",
          "height": 70
        }
      },
      "source": [
        "cross_val = cross_validate(\n",
        "    estimator = clf,\n",
        "    X = heart_data, y=heart_target,\n",
        "    cv=5\n",
        ")\n",
        "print(\"avg fit time: {}(+/-{}\".format(cross_val['fit_time'].mean(), cross_val[\"fit_time\"].std()))\n",
        "print(\"avg score time: {}(+/-{}\".format(cross_val['score_time'].mean(), cross_val[\"score_time\"].std()))\n",
        "print(\"avg test score: {}(+/-{}\".format(cross_val['test_score'].mean(), cross_val[\"test_score\"].std()))"
      ],
      "execution_count": 33,
      "outputs": [
        {
          "output_type": "stream",
          "text": [
            "avg fit time: 0.2849752902984619(+/-0.01652439939442944\n",
            "avg score time: 0.009258794784545898(+/-0.00019160046855493795\n",
            "avg test score: 0.7689265536723163(+/-0.08240554094358885\n"
          ],
          "name": "stdout"
        }
      ]
    },
    {
      "cell_type": "markdown",
      "metadata": {
        "id": "eQWX3lOhMTco"
      },
      "source": [
        "### 결정경계 시각화"
      ]
    },
    {
      "cell_type": "code",
      "metadata": {
        "id": "7LmJo66bMmlv"
      },
      "source": [
        "from itertools import product"
      ],
      "execution_count": 39,
      "outputs": []
    },
    {
      "cell_type": "code",
      "metadata": {
        "id": "55P-SXNwMEEK"
      },
      "source": [
        "X = heart_data[:, [0, 2]]\n",
        "y = heart_target"
      ],
      "execution_count": 35,
      "outputs": []
    },
    {
      "cell_type": "code",
      "metadata": {
        "id": "TEIxbXJkMVJk"
      },
      "source": [
        "model1 = LogisticRegression(max_iter=10000)\n",
        "model2 = SVC()\n",
        "model3 = GaussianNB()\n",
        "stack = StackingClassifier(\n",
        "    estimators = estimators,\n",
        "    final_estimator = RandomForestClassifier()\n",
        ")\n",
        "\n",
        "model1 = model1.fit(X, y)\n",
        "model2 = model2.fit(X, y)\n",
        "model3 = model3.fit(X, y)\n",
        "stack = stack.fit(X, y)"
      ],
      "execution_count": 36,
      "outputs": []
    },
    {
      "cell_type": "code",
      "metadata": {
        "id": "za4V1JMYMbH9"
      },
      "source": [
        "x_min, x_max = X[:,0].min()-1, X[:,0].max()+1\n",
        "y_min, y_max = X[:,1].min()-1, X[:,1].max()+1\n",
        "xx, yy = np.meshgrid(np.arange(x_min, x_max, 0.1),\n",
        "                     np.arange(y_min, y_max, 0.1))\n"
      ],
      "execution_count": 37,
      "outputs": []
    },
    {
      "cell_type": "code",
      "metadata": {
        "id": "Myhxl9DjMd66",
        "outputId": "115c2eda-bb56-4f69-a96a-8f7ed648fe6a",
        "colab": {
          "base_uri": "https://localhost:8080/",
          "height": 494
        }
      },
      "source": [
        "f, axarr = plt.subplots(2, 2, sharex = 'col', sharey = 'row', figsize=(12, 8))\n",
        "\n",
        "for idx, model, tt in zip(product([0, 1], [0, 1]),\n",
        "                          [model1, model2, model3, stack],\n",
        "                          [\"Logistic Regression\", \"SVC\",\n",
        "                           \"GaussianNB\", \"Stack\"]):\n",
        "  Z = model.predict(np.c_[xx.ravel(), yy.ravel()])\n",
        "  Z = Z.reshape(xx.shape)\n",
        "\n",
        "  axarr[idx[0], idx[1]].contourf(xx, yy, Z, alpha=0.4)\n",
        "  axarr[idx[0], idx[1]].scatter(X[:, 0], X[:, 1], c=y, s=20, edgecolors='k')\n",
        "  axarr[idx[0], idx[1]].set_title(tt)\n",
        "\n",
        "plt.show()"
      ],
      "execution_count": 40,
      "outputs": [
        {
          "output_type": "display_data",
          "data": {
            "image/png": "[encoded data removed]",
            "text/plain": [
              "<Figure size 864x576 with 4 Axes>"
            ]
          },
          "metadata": {
            "tags": []
          }
        }
      ]
    },
    {
      "cell_type": "markdown",
      "metadata": {
        "id": "2EhhyA5NQf6e"
      },
      "source": [
        "### Linear SVC"
      ]
    },
    {
      "cell_type": "code",
      "metadata": {
        "id": "3aFGAGvBPyGb"
      },
      "source": [
        "from sklearn.manifold import TSNE"
      ],
      "execution_count": null,
      "outputs": []
    },
    {
      "cell_type": "code",
      "metadata": {
        "id": "CVa28dodQri0",
        "outputId": "f1f91a79-3e47-43a9-baf2-16bbaea8885f",
        "colab": {
          "base_uri": "https://localhost:8080/",
          "height": 70
        }
      },
      "source": [
        "model = make_pipeline(\n",
        "    StandardScaler(),\n",
        "    SVC(kernel='linear')\n",
        ")\n",
        "\n",
        "cross_val = cross_validate(\n",
        "    estimator = model,\n",
        "    X = heart_data, y= heart_target,\n",
        "    cv=5\n",
        ")\n",
        "print(\"avg fit time: {}(+/-{}\".format(cross_val['fit_time'].mean(), cross_val[\"fit_time\"].std()))\n",
        "print(\"avg score time: {}(+/-{}\".format(cross_val['score_time'].mean(), cross_val[\"score_time\"].std()))\n",
        "print(\"avg test score: {}(+/-{}\".format(cross_val['test_score'].mean(), cross_val[\"test_score\"].std()))"
      ],
      "execution_count": 52,
      "outputs": [
        {
          "output_type": "stream",
          "text": [
            "avg fit time: 0.004883432388305664(+/-0.002193525958851133\n",
            "avg score time: 0.0006702899932861328(+/-0.0001832255451551679\n",
            "avg test score: 0.7922598870056496(+/-0.07800776746330146\n"
          ],
          "name": "stdout"
        }
      ]
    },
    {
      "cell_type": "code",
      "metadata": {
        "id": "jyKjYuAnzOPg"
      },
      "source": [
        "X = heart_data\n",
        "y = heart_target\n",
        "X_train, X_test, y_train, y_test = train_test_split(X, y ,test_size=0.2)"
      ],
      "execution_count": 53,
      "outputs": []
    },
    {
      "cell_type": "code",
      "metadata": {
        "id": "o9wxYeRnzOPq"
      },
      "source": [
        "scaler = StandardScaler()\n",
        "scaler.fit(X_train)\n",
        "X_train = scaler.transform(X_train)\n",
        "X_test = scaler.transform(X_test)"
      ],
      "execution_count": 54,
      "outputs": []
    },
    {
      "cell_type": "code",
      "metadata": {
        "id": "_GvWvp7dzOPu",
        "outputId": "d223035b-463f-4de2-e8af-d7f4a06d66b4",
        "colab": {
          "base_uri": "https://localhost:8080/",
          "height": 87
        }
      },
      "source": [
        "model = SVC(kernel='linear')\n",
        "model.fit(X_train, y_train)"
      ],
      "execution_count": 55,
      "outputs": [
        {
          "output_type": "execute_result",
          "data": {
            "text/plain": [
              "SVC(C=1.0, break_ties=False, cache_size=200, class_weight=None, coef0=0.0,\n",
              "    decision_function_shape='ovr', degree=3, gamma='scale', kernel='linear',\n",
              "    max_iter=-1, probability=False, random_state=None, shrinking=True,\n",
              "    tol=0.001, verbose=False)"
            ]
          },
          "metadata": {
            "tags": []
          },
          "execution_count": 55
        }
      ]
    },
    {
      "cell_type": "code",
      "metadata": {
        "id": "nci4MN4lzOPy",
        "outputId": "626dd169-bfe6-4b0f-de02-0bf98210cfa9",
        "colab": {
          "base_uri": "https://localhost:8080/",
          "height": 52
        }
      },
      "source": [
        "print(\"학습 데이터 점수: {}\".format(model.score(X_train, y_train)))\n",
        "print(\"평가 데이터 점수: {}\".format(model.score(X_test, y_test)))"
      ],
      "execution_count": 56,
      "outputs": [
        {
          "output_type": "stream",
          "text": [
            "학습 데이터 점수: 0.8493723849372385\n",
            "평가 데이터 점수: 0.8333333333333334\n"
          ],
          "name": "stdout"
        }
      ]
    },
    {
      "cell_type": "code",
      "metadata": {
        "id": "h5PwxYDfzquO"
      },
      "source": [
        "def make_meshgrid(x, y, h = 0.02):\n",
        "  x_min, x_max = x.min()-1, x.max()+1\n",
        "  y_min, y_max = y.min()-1, y.max()+1\n",
        "  xx, yy = np.meshgrid(np.arange(x_min, x_max, h),\n",
        "                       np.arange(y_min, y_max, h))\n",
        "  \n",
        "  return xx, yy"
      ],
      "execution_count": 57,
      "outputs": []
    },
    {
      "cell_type": "code",
      "metadata": {
        "id": "B1ucAuazzwYZ"
      },
      "source": [
        "def plot_contours(clf, xx, yy, **params):\n",
        "  Z = clf.predict(np.c_[xx.ravel(), yy.ravel()])\n",
        "  Z = Z.reshape(xx.shape)\n",
        "\n",
        "  out = plt.contourf(xx, yy, Z, **params)\n",
        "\n",
        "  return out"
      ],
      "execution_count": 58,
      "outputs": []
    },
    {
      "cell_type": "code",
      "metadata": {
        "id": "nWS829FtzOP7"
      },
      "source": [
        "X_comp = TSNE(n_components = 2).fit_transform(X)\n",
        "X0, X1 = X_comp[:,0], X_comp[:,1]\n",
        "xx, yy = make_meshgrid(X0, X1)"
      ],
      "execution_count": 59,
      "outputs": []
    },
    {
      "cell_type": "code",
      "metadata": {
        "id": "vrGxoYXkzOQI",
        "outputId": "338afe70-ec8d-4d60-b4cd-1d8eb4770fad",
        "colab": {
          "base_uri": "https://localhost:8080/",
          "height": 262
        }
      },
      "source": [
        "model.fit(X_comp, y)\n",
        "plot_contours(model, xx, yy, cmap=plt.cm.coolwarm, alpha=0.7)\n",
        "plt.scatter(X0, X1, c=y, cmap = plt.cm.coolwarm, s=20, edgecolors='k');"
      ],
      "execution_count": 60,
      "outputs": [
        {
          "output_type": "display_data",
          "data": {
            "image/png": "[encoded data removed]",
            "text/plain": [
              "<Figure size 432x288 with 1 Axes>"
            ]
          },
          "metadata": {
            "tags": []
          }
        }
      ]
    },
    {
      "cell_type": "markdown",
      "metadata": {
        "id": "aIIeVpOQRLVZ"
      },
      "source": [
        "### SVC모델이 성능이 좋았으며 특히 linear SVC모델이 가장 성능이 우수했음"
      ]
    }
  ]
}