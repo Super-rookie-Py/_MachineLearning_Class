{
  "nbformat": 4,
  "nbformat_minor": 0,
  "metadata": {
    "colab": {
      "name": "박건우 - _5 서포트 벡터 머신(Support Vector Machines).ipynb",
      "provenance": [],
      "collapsed_sections": [],
      "include_colab_link": true
    },
    "kernelspec": {
      "name": "python3",
      "display_name": "Python 3"
    }
  },
  "cells": [
    {
      "cell_type": "markdown",
      "metadata": {
        "id": "view-in-github",
        "colab_type": "text"
      },
      "source": [
        "<a href=\"https://colab.research.google.com/github/Super-rookie-Py/_MachineLearning_Class/blob/main/%EB%B0%95%EA%B1%B4%EC%9A%B0__5_%EC%84%9C%ED%8F%AC%ED%8A%B8_%EB%B2%A1%ED%84%B0_%EB%A8%B8%EC%8B%A0(Support_Vector_Machines).ipynb\" target=\"_parent\"><img src=\"https://colab.research.google.com/assets/colab-badge.svg\" alt=\"Open In Colab\"/></a>"
      ]
    },
    {
      "cell_type": "markdown",
      "metadata": {
        "id": "g63soNOvFUSa"
      },
      "source": [
        "# 서포트 벡터 머신(Support Vector Machines)"
      ]
    },
    {
      "cell_type": "markdown",
      "metadata": {
        "id": "Rrbp02Mk5CDA"
      },
      "source": [
        "* 회귀, 분류, 이상치 탐지 등에 사용되는 지도학습 방법\n",
        "* 클래스 사이의 경계에 위치한 데이터 포인트를 서포트 벡터(support vector)라고 함\n",
        "* 각 지지 벡터가 클래스 사이의 결정 경계를 구분하는데 얼마나 중요한지를 학습\n",
        "* 각 지지 벡터 사이의 마진이 가장 큰 방향으로 학습\n",
        "* 지지 벡터 까지의 거리와 지지 벡터의 중요도를 기반으로 예측을 수행\n",
        "\n",
        "![support vector machine](https://upload.wikimedia.org/wikipedia/commons/thumb/2/20/Svm_separating_hyperplanes.png/220px-Svm_separating_hyperplanes.png)\n",
        "\n",
        "* H3은 두 클래스의 점들을 제대로 분류하고 있지 않음\n",
        "* H1과 H2는 두 클래스의 점들을 분류하는데, H2가 H1보다 더 큰 마진을 갖고 분류하는 것을 확인할 수 있음"
      ]
    },
    {
      "cell_type": "code",
      "metadata": {
        "id": "zBilnkAn4_U3"
      },
      "source": [
        "import multiprocessing\n",
        "import pandas as pd\n",
        "import numpy as np\n",
        "import matplotlib.pyplot as plt\n",
        "plt.style.use([\"seaborn-whitegrid\"])"
      ],
      "execution_count": 2,
      "outputs": []
    },
    {
      "cell_type": "code",
      "metadata": {
        "id": "1YRJRPy6hTe0"
      },
      "source": [
        "from sklearn.svm import SVR, SVC\n",
        "from sklearn.datasets import load_boston, load_diabetes\n",
        "from sklearn.datasets import load_breast_cancer, load_iris, load_wine\n",
        "from sklearn.pipeline import make_pipeline, Pipeline\n",
        "from sklearn.model_selection import train_test_split, cross_validate, GridSearchCV\n",
        "from sklearn.preprocessing import StandardScaler , MinMaxScaler\n",
        "from sklearn.manifold import TSNE"
      ],
      "execution_count": 48,
      "outputs": []
    },
    {
      "cell_type": "markdown",
      "metadata": {
        "id": "UxS0mPsCh4l0"
      },
      "source": [
        "## SVM을 이용한 회귀 모델과 분류 모델"
      ]
    },
    {
      "cell_type": "markdown",
      "metadata": {
        "id": "NTtcx3p8wtNX"
      },
      "source": [
        "### SVM을 사용한 회귀 모델 (SVR)"
      ]
    },
    {
      "cell_type": "code",
      "metadata": {
        "id": "sCrhSrMf5BqB",
        "outputId": "07f2485f-1e15-416c-e89c-63cc39a52769",
        "colab": {
          "base_uri": "https://localhost:8080/",
          "height": 52
        }
      },
      "source": [
        "X, y = load_boston(return_X_y=True)\n",
        "X_train, X_test, y_train, y_test = train_test_split(X, y, random_state=123)\n",
        "\n",
        "model = SVR()\n",
        "model.fit(X_train, y_train)\n",
        "\n",
        "print(\"학습 데이터 점수: {}\".format(model.score(X_train, y_train)))\n",
        "print(\"평가 데이터 점수: {}\".format(model.score(X_test, y_test)))"
      ],
      "execution_count": 4,
      "outputs": [
        {
          "output_type": "stream",
          "text": [
            "학습 데이터 점수: 0.2177283706374875\n",
            "평가 데이터 점수: 0.13544178468518187\n"
          ],
          "name": "stdout"
        }
      ]
    },
    {
      "cell_type": "markdown",
      "metadata": {
        "id": "CQraX6MzwvtE"
      },
      "source": [
        "### SVM을 사용한 분류 모델 (SVC)"
      ]
    },
    {
      "cell_type": "code",
      "metadata": {
        "id": "bnh5fS8gFbtK",
        "outputId": "52b1a048-2f8f-413c-d09d-4e2e9b58e3d3",
        "colab": {
          "base_uri": "https://localhost:8080/",
          "height": 52
        }
      },
      "source": [
        "X, y = load_breast_cancer(return_X_y=True)\n",
        "X_train, X_test, y_train, y_test = train_test_split(X, y, random_state=123)\n",
        "\n",
        "model = SVC()\n",
        "model.fit(X_train, y_train)\n",
        "\n",
        "print(\"학습 데이터 점수: {}\".format(model.score(X_train, y_train)))\n",
        "print(\"평가 데이터 점수: {}\".format(model.score(X_test, y_test)))"
      ],
      "execution_count": 5,
      "outputs": [
        {
          "output_type": "stream",
          "text": [
            "학습 데이터 점수: 0.9014084507042254\n",
            "평가 데이터 점수: 0.9230769230769231\n"
          ],
          "name": "stdout"
        }
      ]
    },
    {
      "cell_type": "markdown",
      "metadata": {
        "id": "zgd_dvKrGeFh"
      },
      "source": [
        "## 커널 기법\n",
        "\n",
        "* 입력 데이터를 고차원 공간에 사상해서 비선형 특징을 학습할 수 있도록 확장하는 방법\n",
        "* scikit-learn에서는 Linear, Polynomial, RBF(Radial Basis Function)등 다양한 커널 기법을 지원\n",
        "\n",
        "![kernel trick](https://scikit-learn.org/stable/_images/sphx_glr_plot_iris_svc_0011.png)"
      ]
    },
    {
      "cell_type": "code",
      "metadata": {
        "id": "Azq1UJtZF8sU",
        "outputId": "df6753d8-e6d2-4471-853f-f6146eb2b918",
        "colab": {
          "base_uri": "https://localhost:8080/",
          "height": 123
        }
      },
      "source": [
        "X, y = load_boston(return_X_y=True)\n",
        "X_train, X_test, y_train, y_test = train_test_split(X, y, random_state = 123)\n",
        "\n",
        "linear_svr = SVR(kernel=\"linear\")\n",
        "linear_svr.fit(X_train, y_train)\n",
        "\n",
        "print(\"Linear SVR 학습 데이터 점수: {}\".format(linear_svr.score(X_train, y_train)))\n",
        "print(\"Linear SVR 평가 데이터 점수: {}\".format(linear_svr.score(X_test, y_test)))\n",
        "\n",
        "polynomial_svr = SVR(kernel=\"poly\")\n",
        "polynomial_svr.fit(X_train, y_train)\n",
        "\n",
        "print(\"Polynomial SVR 학습 데이터 점수: {}\".format(polynomial_svr.score(X_train, y_train)))\n",
        "print(\"Polynomial SVR 평가 데이터 점수: {}\".format(polynomial_svr.score(X_test, y_test)))\n",
        "\n",
        "rbf_svr = SVR(kernel=\"rbf\")\n",
        "rbf_svr.fit(X_train, y_train)\n",
        "\n",
        "print(\"RPF SVR 학습 데이터 점수: {}\".format(rbf_svr.score(X_train, y_train)))\n",
        "print(\"RPF SVR 평가 데이터 점수: {}\".format(rbf_svr.score(X_test, y_test)))"
      ],
      "execution_count": 6,
      "outputs": [
        {
          "output_type": "stream",
          "text": [
            "Linear SVR 학습 데이터 점수: 0.715506620496448\n",
            "Linear SVR 평가 데이터 점수: 0.6380398541506058\n",
            "Polynomial SVR 학습 데이터 점수: 0.2024454261446289\n",
            "Polynomial SVR 평가 데이터 점수: 0.133668450367462\n",
            "RPF SVR 학습 데이터 점수: 0.2177283706374875\n",
            "RPF SVR 평가 데이터 점수: 0.13544178468518187\n"
          ],
          "name": "stdout"
        }
      ]
    },
    {
      "cell_type": "code",
      "metadata": {
        "id": "KuvRIzarJO0H",
        "outputId": "6a0b8427-3bf8-44bd-9ded-fc6afa302b01",
        "colab": {
          "base_uri": "https://localhost:8080/",
          "height": 123
        }
      },
      "source": [
        "X, y = load_breast_cancer(return_X_y=True)\n",
        "X_train, X_test, y_train, y_test = train_test_split(X, y, random_state = 123)\n",
        "\n",
        "linear_svc = SVC(kernel=\"linear\")\n",
        "linear_svc.fit(X_train, y_train)\n",
        "\n",
        "print(\"Linear SVC 학습 데이터 점수: {}\".format(linear_svc.score(X_train, y_train)))\n",
        "print(\"Linear SVC 평가 데이터 점수: {}\".format(linear_svc.score(X_test, y_test)))\n",
        "\n",
        "polynomial_svc = SVC(kernel=\"poly\")\n",
        "polynomial_svc.fit(X_train, y_train)\n",
        "\n",
        "print(\"Polynomial SVC 학습 데이터 점수: {}\".format(polynomial_svc.score(X_train, y_train)))\n",
        "print(\"Polynomial SVC 평가 데이터 점수: {}\".format(polynomial_svc.score(X_test, y_test)))\n",
        "\n",
        "rbf_svc = SVC(kernel=\"rbf\")\n",
        "rbf_svc.fit(X_train, y_train)\n",
        "\n",
        "print(\"RPF SVC 학습 데이터 점수: {}\".format(rbf_svc.score(X_train, y_train)))\n",
        "print(\"RPF SVC 평가 데이터 점수: {}\".format(rbf_svc.score(X_test, y_test)))"
      ],
      "execution_count": 7,
      "outputs": [
        {
          "output_type": "stream",
          "text": [
            "Linear SVC 학습 데이터 점수: 0.960093896713615\n",
            "Linear SVC 평가 데이터 점수: 0.986013986013986\n",
            "Polynomial SVC 학습 데이터 점수: 0.9014084507042254\n",
            "Polynomial SVC 평가 데이터 점수: 0.9230769230769231\n",
            "RPF SVC 학습 데이터 점수: 0.9014084507042254\n",
            "RPF SVC 평가 데이터 점수: 0.9230769230769231\n"
          ],
          "name": "stdout"
        }
      ]
    },
    {
      "cell_type": "markdown",
      "metadata": {
        "id": "ysbUu5o3Lm2V"
      },
      "source": [
        "## 매개변수 튜닝\n",
        "\n",
        "* SVM은 사용하는 커널에 따라 다양한 매개변수 설정 가능\n",
        "* 매개변수를 변경하면서 성능변화를 관찰"
      ]
    },
    {
      "cell_type": "code",
      "metadata": {
        "id": "JyCxM4abOZyO"
      },
      "source": [
        "X, y = load_breast_cancer(return_X_y=True)\n",
        "X_train, X_test, y_train, y_test = train_test_split(X, y, random_state = 123)"
      ],
      "execution_count": 9,
      "outputs": []
    },
    {
      "cell_type": "code",
      "metadata": {
        "id": "QN4BSxiaJspb",
        "outputId": "e0b57771-9f24-46b0-f347-beb3b36bdb92",
        "colab": {
          "base_uri": "https://localhost:8080/",
          "height": 70
        }
      },
      "source": [
        "polynomial_svc = SVC(kernel=\"poly\", degree = 2, C = 0.1, gamma=\"auto\")\n",
        "polynomial_svc.fit(X_train, y_train)\n",
        "\n",
        "print(\"kernel = poly, degree = {}, C = {}, gamma={}\".format(2, 0.1, \"auto\"))\n",
        "print(\"Polynomial SVC 학습 데이터 점수: {}\".format(polynomial_svc.score(X_train, y_train)))\n",
        "print(\"Polynomial SVC 평가 데이터 점수: {}\".format(polynomial_svc.score(X_test, y_test)))"
      ],
      "execution_count": 11,
      "outputs": [
        {
          "output_type": "stream",
          "text": [
            "kernel = poly, degree = 2, C = 0.1, gamma=auto\n",
            "Polynomial SVC 학습 데이터 점수: 0.9835680751173709\n",
            "Polynomial SVC 평가 데이터 점수: 0.993006993006993\n"
          ],
          "name": "stdout"
        }
      ]
    },
    {
      "cell_type": "code",
      "metadata": {
        "id": "P7hOhO1oOvVC",
        "outputId": "05801f75-ff24-4ecc-884a-b8c4a85a5ff4",
        "colab": {
          "base_uri": "https://localhost:8080/",
          "height": 70
        }
      },
      "source": [
        "rbf_svc = SVC(kernel=\"rbf\", C=2.0, gamma='scale')\n",
        "rbf_svc.fit(X_train, y_train)\n",
        "\n",
        "print(\"kernel = poly, C = {}, gamma={}\".format(2.0, \"scale\"))\n",
        "print(\"RPF SVC 학습 데이터 점수: {}\".format(rbf_svc.score(X_train, y_train)))\n",
        "print(\"RPF SVC 평가 데이터 점수: {}\".format(rbf_svc.score(X_test, y_test)))"
      ],
      "execution_count": 15,
      "outputs": [
        {
          "output_type": "stream",
          "text": [
            "kernel = poly, C = 2.0, gamma=scale\n",
            "RPF SVC 학습 데이터 점수: 0.9154929577464789\n",
            "RPF SVC 평가 데이터 점수: 0.9370629370629371\n"
          ],
          "name": "stdout"
        }
      ]
    },
    {
      "cell_type": "markdown",
      "metadata": {
        "id": "aEQL8h8WU0An"
      },
      "source": [
        "## 데이터 전처리\n",
        "\n",
        "* SVM은 입력 데이터가 정규화 되어야 좋은 성능을 보임\n",
        "* 주로 모든 특성 값을 [0, 1] 범위로 맞추는 방법을 사용\n",
        "* scikit-learn의 StandardScaler 또는 MinMaxScaler를 사용해 정규화"
      ]
    },
    {
      "cell_type": "code",
      "metadata": {
        "id": "RujhqUOsVU73"
      },
      "source": [
        "X, y = load_breast_cancer(return_X_y=True)\n",
        "X_train, X_test, y_train, y_test = train_test_split(X, y, random_state = 123)"
      ],
      "execution_count": 36,
      "outputs": []
    },
    {
      "cell_type": "code",
      "metadata": {
        "id": "DWau9A6UWds4",
        "outputId": "1608ae2b-f314-4c36-bbd8-0fdb08c12ea3",
        "colab": {
          "base_uri": "https://localhost:8080/",
          "height": 52
        }
      },
      "source": [
        "model = SVC()\n",
        "model.fit(X_train, y_train)\n",
        "\n",
        "print(\"SVC 학습 데이터 점수: {}\".format(model.score(X_train, y_train)))\n",
        "print(\"SVC 평가 데이터 점수: {}\".format(model.score(X_test, y_test)))"
      ],
      "execution_count": 37,
      "outputs": [
        {
          "output_type": "stream",
          "text": [
            "SVC 학습 데이터 점수: 0.9014084507042254\n",
            "SVC 평가 데이터 점수: 0.9230769230769231\n"
          ],
          "name": "stdout"
        }
      ]
    },
    {
      "cell_type": "code",
      "metadata": {
        "id": "y_ScHENS0ssY"
      },
      "source": [
        "scaler = StandardScaler()\n",
        "X_train = scaler.fit_transform(X_train)\n",
        "X_test = scaler.fit_transform(X_test)"
      ],
      "execution_count": 38,
      "outputs": []
    },
    {
      "cell_type": "code",
      "metadata": {
        "id": "R2_4R6JE0ssi",
        "outputId": "9a74c302-c0ee-4a22-8637-dfd30ec2380e",
        "colab": {
          "base_uri": "https://localhost:8080/",
          "height": 52
        }
      },
      "source": [
        "model = SVC()\n",
        "model.fit(X_train, y_train)\n",
        "\n",
        "print(\"SVC 학습 데이터 점수: {}\".format(model.score(X_train, y_train)))\n",
        "print(\"SVC 평가 데이터 점수: {}\".format(model.score(X_test, y_test)))"
      ],
      "execution_count": 39,
      "outputs": [
        {
          "output_type": "stream",
          "text": [
            "SVC 학습 데이터 점수: 0.9835680751173709\n",
            "SVC 평가 데이터 점수: 0.986013986013986\n"
          ],
          "name": "stdout"
        }
      ]
    },
    {
      "cell_type": "code",
      "metadata": {
        "id": "_EVkj33WVQOu"
      },
      "source": [
        "scaler = MinMaxScaler()\n",
        "X_train = scaler.fit_transform(X_train)\n",
        "X_test = scaler.fit_transform(X_test)"
      ],
      "execution_count": 40,
      "outputs": []
    },
    {
      "cell_type": "code",
      "metadata": {
        "id": "D7Kj3q_bVmeN",
        "outputId": "ba0a67ce-c6ea-4c24-8d8c-0fccc38084f0",
        "colab": {
          "base_uri": "https://localhost:8080/",
          "height": 52
        }
      },
      "source": [
        "model = SVC()\n",
        "model.fit(X_train, y_train)\n",
        "\n",
        "print(\"SVC 학습 데이터 점수: {}\".format(model.score(X_train, y_train)))\n",
        "print(\"SVC 평가 데이터 점수: {}\".format(model.score(X_test, y_test)))"
      ],
      "execution_count": 41,
      "outputs": [
        {
          "output_type": "stream",
          "text": [
            "SVC 학습 데이터 점수: 0.9812206572769953\n",
            "SVC 평가 데이터 점수: 0.9300699300699301\n"
          ],
          "name": "stdout"
        }
      ]
    },
    {
      "cell_type": "markdown",
      "metadata": {
        "id": "zLjtZC7gYr7R"
      },
      "source": [
        "## Linear SVR"
      ]
    },
    {
      "cell_type": "markdown",
      "metadata": {
        "id": "tbZicmjAZBZp"
      },
      "source": [
        "### 보스턴 주택 가격"
      ]
    },
    {
      "cell_type": "code",
      "metadata": {
        "id": "X39InXCSYuPf"
      },
      "source": [
        "X, y = load_boston(return_X_y=True)\n",
        "X_train, X_test, y_train, y_test = train_test_split(X, y ,test_size=0.2)"
      ],
      "execution_count": 42,
      "outputs": []
    },
    {
      "cell_type": "code",
      "metadata": {
        "id": "I1TKwSKhdLaU"
      },
      "source": [
        "scaler = StandardScaler()\n",
        "scaler.fit(X_train)\n",
        "X_train = scaler.transform(X_train)\n",
        "X_test = scaler.transform(X_test)"
      ],
      "execution_count": 43,
      "outputs": []
    },
    {
      "cell_type": "code",
      "metadata": {
        "id": "deIvkeKRZqTU",
        "outputId": "8f1ec501-7003-44d6-f95e-47e6edf6f97f",
        "colab": {
          "base_uri": "https://localhost:8080/",
          "height": 52
        }
      },
      "source": [
        "model = SVR(kernel='linear')\n",
        "model.fit(X_train, y_train)"
      ],
      "execution_count": 44,
      "outputs": [
        {
          "output_type": "execute_result",
          "data": {
            "text/plain": [
              "SVR(C=1.0, cache_size=200, coef0=0.0, degree=3, epsilon=0.1, gamma='scale',\n",
              "    kernel='linear', max_iter=-1, shrinking=True, tol=0.001, verbose=False)"
            ]
          },
          "metadata": {
            "tags": []
          },
          "execution_count": 44
        }
      ]
    },
    {
      "cell_type": "code",
      "metadata": {
        "id": "zEknoMb5aRBt",
        "outputId": "ef4a294d-137c-44c0-a2e4-a75d83dcdfd7",
        "colab": {
          "base_uri": "https://localhost:8080/",
          "height": 52
        }
      },
      "source": [
        "print(\"학습 데이터 점수: {}\".format(model.score(X_train, y_train)))\n",
        "print(\"평가 데이터 점수: {}\".format(model.score(X_test, y_test)))"
      ],
      "execution_count": 45,
      "outputs": [
        {
          "output_type": "stream",
          "text": [
            "학습 데이터 점수: 0.7378770753376414\n",
            "평가 데이터 점수: 0.5938233167142117\n"
          ],
          "name": "stdout"
        }
      ]
    },
    {
      "cell_type": "code",
      "metadata": {
        "id": "S3ipWjbFiete",
        "outputId": "978784fe-4480-4ae3-ad41-8d78ee34d633",
        "colab": {
          "base_uri": "https://localhost:8080/",
          "height": 280
        }
      },
      "source": [
        "X_comp = TSNE(n_components = 1).fit_transform(X)\n",
        "plt.scatter(X_comp, y)"
      ],
      "execution_count": 46,
      "outputs": [
        {
          "output_type": "execute_result",
          "data": {
            "text/plain": [
              "<matplotlib.collections.PathCollection at 0x7fe70f272240>"
            ]
          },
          "metadata": {
            "tags": []
          },
          "execution_count": 46
        },
        {
          "output_type": "display_data",
          "data": {
            "image/png": "[encoded data removed]",
            "text/plain": [
              "<Figure size 432x288 with 1 Axes>"
            ]
          },
          "metadata": {
            "tags": []
          }
        }
      ]
    },
    {
      "cell_type": "code",
      "metadata": {
        "id": "IqLc69hojcIr",
        "outputId": "7c78fe2e-28c2-4819-ccc9-208be0f25ed3",
        "colab": {
          "base_uri": "https://localhost:8080/",
          "height": 262
        }
      },
      "source": [
        "model.fit(X_comp, y)\n",
        "predict = model.predict(X_comp)\n",
        "plt.scatter(X_comp, y)\n",
        "plt.scatter(X_comp, predict, color='r');"
      ],
      "execution_count": 47,
      "outputs": [
        {
          "output_type": "display_data",
          "data": {
            "image/png": "[encoded data removed]",
            "text/plain": [
              "<Figure size 432x288 with 1 Axes>"
            ]
          },
          "metadata": {
            "tags": []
          }
        }
      ]
    },
    {
      "cell_type": "code",
      "metadata": {
        "id": "YzGeXLmZbGY7",
        "outputId": "a4af8fff-abcd-4cca-b703-e78010555df0",
        "colab": {
          "base_uri": "https://localhost:8080/",
          "height": 125
        }
      },
      "source": [
        "estimator = make_pipeline(StandardScaler(), SVR(kernel=\"linear\"))\n",
        "\n",
        "cross_validate(\n",
        "    estimator=estimator,\n",
        "    X= X, y= y,\n",
        "    cv= 5,\n",
        "    n_jobs = multiprocessing.cpu_count(),\n",
        "    verbose=True\n",
        ")"
      ],
      "execution_count": 49,
      "outputs": [
        {
          "output_type": "stream",
          "text": [
            "[Parallel(n_jobs=2)]: Using backend LokyBackend with 2 concurrent workers.\n",
            "[Parallel(n_jobs=2)]: Done   5 out of   5 | elapsed:    1.1s finished\n"
          ],
          "name": "stderr"
        },
        {
          "output_type": "execute_result",
          "data": {
            "text/plain": [
              "{'fit_time': array([0.02912664, 0.02785373, 0.02660298, 0.02629352, 0.02431893]),\n",
              " 'score_time': array([0.00232625, 0.00213122, 0.00212574, 0.00206828, 0.00135064]),\n",
              " 'test_score': array([0.76908568, 0.72180141, 0.56428426, 0.14083339, 0.07810211])}"
            ]
          },
          "metadata": {
            "tags": []
          },
          "execution_count": 49
        }
      ]
    },
    {
      "cell_type": "code",
      "metadata": {
        "id": "Hfo2Z6T5jo73",
        "outputId": "93b68f19-484e-4b7f-dd7a-ab8bda7be4c7",
        "colab": {
          "base_uri": "https://localhost:8080/",
          "height": 407
        }
      },
      "source": [
        "pipe = Pipeline([(\"scaler\", StandardScaler()),\n",
        "                 (\"model\", SVR(kernel='linear'))])\n",
        "\n",
        "param_grid = [{'model__gamma': ['scale', 'auto'],\n",
        "               \"model__C\": [1.0, 0.1, 0.01],\n",
        "               \"model__epsilon\": [1.0, 0.1, 0.01]}]\n",
        "\n",
        "gs = GridSearchCV(\n",
        "    estimator = pipe,\n",
        "    param_grid = param_grid,\n",
        "    n_jobs = multiprocessing.cpu_count(),\n",
        "    cv = 5,\n",
        "    verbose=True\n",
        ")\n",
        "\n",
        "gs.fit(X, y)"
      ],
      "execution_count": 50,
      "outputs": [
        {
          "output_type": "stream",
          "text": [
            "Fitting 5 folds for each of 18 candidates, totalling 90 fits\n"
          ],
          "name": "stdout"
        },
        {
          "output_type": "stream",
          "text": [
            "[Parallel(n_jobs=2)]: Using backend LokyBackend with 2 concurrent workers.\n",
            "[Parallel(n_jobs=2)]: Done  90 out of  90 | elapsed:    1.0s finished\n"
          ],
          "name": "stderr"
        },
        {
          "output_type": "execute_result",
          "data": {
            "text/plain": [
              "GridSearchCV(cv=5, error_score=nan,\n",
              "             estimator=Pipeline(memory=None,\n",
              "                                steps=[('scaler',\n",
              "                                        StandardScaler(copy=True,\n",
              "                                                       with_mean=True,\n",
              "                                                       with_std=True)),\n",
              "                                       ('model',\n",
              "                                        SVR(C=1.0, cache_size=200, coef0=0.0,\n",
              "                                            degree=3, epsilon=0.1,\n",
              "                                            gamma='scale', kernel='linear',\n",
              "                                            max_iter=-1, shrinking=True,\n",
              "                                            tol=0.001, verbose=False))],\n",
              "                                verbose=False),\n",
              "             iid='deprecated', n_jobs=2,\n",
              "             param_grid=[{'model__C': [1.0, 0.1, 0.01],\n",
              "                          'model__epsilon': [1.0, 0.1, 0.01],\n",
              "                          'model__gamma': ['scale', 'auto']}],\n",
              "             pre_dispatch='2*n_jobs', refit=True, return_train_score=False,\n",
              "             scoring=None, verbose=True)"
            ]
          },
          "metadata": {
            "tags": []
          },
          "execution_count": 50
        }
      ]
    },
    {
      "cell_type": "code",
      "metadata": {
        "id": "G1BG0w50iUNF",
        "outputId": "335515d1-9549-4b32-bd78-89740f0d9243",
        "colab": {
          "base_uri": "https://localhost:8080/",
          "height": 158
        }
      },
      "source": [
        "gs.best_estimator_"
      ],
      "execution_count": 51,
      "outputs": [
        {
          "output_type": "execute_result",
          "data": {
            "text/plain": [
              "Pipeline(memory=None,\n",
              "         steps=[('scaler',\n",
              "                 StandardScaler(copy=True, with_mean=True, with_std=True)),\n",
              "                ('model',\n",
              "                 SVR(C=0.1, cache_size=200, coef0=0.0, degree=3, epsilon=1.0,\n",
              "                     gamma='scale', kernel='linear', max_iter=-1,\n",
              "                     shrinking=True, tol=0.001, verbose=False))],\n",
              "         verbose=False)"
            ]
          },
          "metadata": {
            "tags": []
          },
          "execution_count": 51
        }
      ]
    },
    {
      "cell_type": "markdown",
      "metadata": {
        "id": "Tlmsj9sHlB_i"
      },
      "source": [
        "### 당뇨병"
      ]
    },
    {
      "cell_type": "code",
      "metadata": {
        "id": "Yq7qyDJOlXgn"
      },
      "source": [
        "X, y = load_diabetes(return_X_y=True)\n",
        "X_train, X_test, y_train, y_test = train_test_split(X, y ,test_size=0.2)"
      ],
      "execution_count": 52,
      "outputs": []
    },
    {
      "cell_type": "code",
      "metadata": {
        "id": "O8ijEt-glfx0"
      },
      "source": [
        "scaler = StandardScaler()\n",
        "scaler.fit(X_train)\n",
        "X_train = scaler.transform(X_train)\n",
        "X_test = scaler.transform(X_test)"
      ],
      "execution_count": 54,
      "outputs": []
    },
    {
      "cell_type": "code",
      "metadata": {
        "id": "tLnC7Sqzvl1W",
        "outputId": "f897aae7-52b4-4d51-b05c-9b920c7f7d54",
        "colab": {
          "base_uri": "https://localhost:8080/",
          "height": 52
        }
      },
      "source": [
        "model = SVR(kernel='linear')\n",
        "model.fit(X_train, y_train)"
      ],
      "execution_count": 55,
      "outputs": [
        {
          "output_type": "execute_result",
          "data": {
            "text/plain": [
              "SVR(C=1.0, cache_size=200, coef0=0.0, degree=3, epsilon=0.1, gamma='scale',\n",
              "    kernel='linear', max_iter=-1, shrinking=True, tol=0.001, verbose=False)"
            ]
          },
          "metadata": {
            "tags": []
          },
          "execution_count": 55
        }
      ]
    },
    {
      "cell_type": "code",
      "metadata": {
        "id": "-8rOv-3uvl1e",
        "outputId": "73c165d5-bccd-44b8-9491-a3616c9713e4",
        "colab": {
          "base_uri": "https://localhost:8080/",
          "height": 52
        }
      },
      "source": [
        "print(\"학습 데이터 점수: {}\".format(model.score(X_train, y_train)))\n",
        "print(\"평가 데이터 점수: {}\".format(model.score(X_test, y_test)))"
      ],
      "execution_count": 56,
      "outputs": [
        {
          "output_type": "stream",
          "text": [
            "학습 데이터 점수: 0.5206983232432754\n",
            "평가 데이터 점수: 0.45021162200153253\n"
          ],
          "name": "stdout"
        }
      ]
    },
    {
      "cell_type": "code",
      "metadata": {
        "id": "0URmtOlovl1k",
        "outputId": "54ed36ce-981c-4f77-8cbb-90d27ffd1950",
        "colab": {
          "base_uri": "https://localhost:8080/",
          "height": 280
        }
      },
      "source": [
        "X_comp = TSNE(n_components = 1).fit_transform(X)\n",
        "plt.scatter(X_comp, y)"
      ],
      "execution_count": 57,
      "outputs": [
        {
          "output_type": "execute_result",
          "data": {
            "text/plain": [
              "<matplotlib.collections.PathCollection at 0x7fe70602f4e0>"
            ]
          },
          "metadata": {
            "tags": []
          },
          "execution_count": 57
        },
        {
          "output_type": "display_data",
          "data": {
            "image/png": "[encoded data removed]",
            "text/plain": [
              "<Figure size 432x288 with 1 Axes>"
            ]
          },
          "metadata": {
            "tags": []
          }
        }
      ]
    },
    {
      "cell_type": "code",
      "metadata": {
        "id": "pCckHElivl1n",
        "outputId": "8e068fe3-30fb-4a6a-c20c-baa36ae3d984",
        "colab": {
          "base_uri": "https://localhost:8080/",
          "height": 262
        }
      },
      "source": [
        "model.fit(X_comp, y)\n",
        "predict = model.predict(X_comp)\n",
        "plt.scatter(X_comp, y)\n",
        "plt.scatter(X_comp, predict, color='r');"
      ],
      "execution_count": 58,
      "outputs": [
        {
          "output_type": "display_data",
          "data": {
            "image/png": "[encoded data removed]",
            "text/plain": [
              "<Figure size 432x288 with 1 Axes>"
            ]
          },
          "metadata": {
            "tags": []
          }
        }
      ]
    },
    {
      "cell_type": "code",
      "metadata": {
        "id": "HjitsOrTvl1r",
        "outputId": "e226d2c8-3b9d-48c6-a800-7462d97f9981",
        "colab": {
          "base_uri": "https://localhost:8080/",
          "height": 125
        }
      },
      "source": [
        "estimator = make_pipeline(StandardScaler(), SVR(kernel=\"linear\"))\n",
        "\n",
        "cross_validate(\n",
        "    estimator=estimator,\n",
        "    X= X, y= y,\n",
        "    cv= 5,\n",
        "    n_jobs = multiprocessing.cpu_count(),\n",
        "    verbose=True\n",
        ")"
      ],
      "execution_count": 59,
      "outputs": [
        {
          "output_type": "stream",
          "text": [
            "[Parallel(n_jobs=2)]: Using backend LokyBackend with 2 concurrent workers.\n",
            "[Parallel(n_jobs=2)]: Done   5 out of   5 | elapsed:    0.8s finished\n"
          ],
          "name": "stderr"
        },
        {
          "output_type": "execute_result",
          "data": {
            "text/plain": [
              "{'fit_time': array([0.01853466, 0.0133698 , 0.01085496, 0.01105189, 0.013484  ]),\n",
              " 'score_time': array([0.00182486, 0.00184369, 0.00200391, 0.0016017 , 0.00109792]),\n",
              " 'test_score': array([0.43037242, 0.51653341, 0.48275332, 0.42247202, 0.53076481])}"
            ]
          },
          "metadata": {
            "tags": []
          },
          "execution_count": 59
        }
      ]
    },
    {
      "cell_type": "code",
      "metadata": {
        "id": "PL50a2gpvVb_",
        "outputId": "cc48285d-b518-42cc-901c-3a9986873205",
        "colab": {
          "base_uri": "https://localhost:8080/",
          "height": 407
        }
      },
      "source": [
        "pipe = Pipeline([(\"scaler\", StandardScaler()),\n",
        "                 (\"model\", SVR(kernel='linear'))])\n",
        "\n",
        "param_grid = [{'model__gamma': ['scale', 'auto'],\n",
        "               \"model__C\": [1.0, 0.1, 0.01],\n",
        "               \"model__epsilon\": [1.0, 0.1, 0.01]}]\n",
        "\n",
        "gs = GridSearchCV(\n",
        "    estimator = pipe,\n",
        "    param_grid = param_grid,\n",
        "    n_jobs = multiprocessing.cpu_count(),\n",
        "    cv = 5,\n",
        "    verbose=True\n",
        ")\n",
        "\n",
        "gs.fit(X, y)"
      ],
      "execution_count": 60,
      "outputs": [
        {
          "output_type": "stream",
          "text": [
            "Fitting 5 folds for each of 18 candidates, totalling 90 fits\n"
          ],
          "name": "stdout"
        },
        {
          "output_type": "stream",
          "text": [
            "[Parallel(n_jobs=2)]: Using backend LokyBackend with 2 concurrent workers.\n",
            "[Parallel(n_jobs=2)]: Done  90 out of  90 | elapsed:    0.7s finished\n"
          ],
          "name": "stderr"
        },
        {
          "output_type": "execute_result",
          "data": {
            "text/plain": [
              "GridSearchCV(cv=5, error_score=nan,\n",
              "             estimator=Pipeline(memory=None,\n",
              "                                steps=[('scaler',\n",
              "                                        StandardScaler(copy=True,\n",
              "                                                       with_mean=True,\n",
              "                                                       with_std=True)),\n",
              "                                       ('model',\n",
              "                                        SVR(C=1.0, cache_size=200, coef0=0.0,\n",
              "                                            degree=3, epsilon=0.1,\n",
              "                                            gamma='scale', kernel='linear',\n",
              "                                            max_iter=-1, shrinking=True,\n",
              "                                            tol=0.001, verbose=False))],\n",
              "                                verbose=False),\n",
              "             iid='deprecated', n_jobs=2,\n",
              "             param_grid=[{'model__C': [1.0, 0.1, 0.01],\n",
              "                          'model__epsilon': [1.0, 0.1, 0.01],\n",
              "                          'model__gamma': ['scale', 'auto']}],\n",
              "             pre_dispatch='2*n_jobs', refit=True, return_train_score=False,\n",
              "             scoring=None, verbose=True)"
            ]
          },
          "metadata": {
            "tags": []
          },
          "execution_count": 60
        }
      ]
    },
    {
      "cell_type": "code",
      "metadata": {
        "id": "POAvMVkLvVcR",
        "outputId": "5136690c-3d78-4c0f-ae24-25427fb03a05",
        "colab": {
          "base_uri": "https://localhost:8080/",
          "height": 158
        }
      },
      "source": [
        "gs.best_estimator_"
      ],
      "execution_count": 61,
      "outputs": [
        {
          "output_type": "execute_result",
          "data": {
            "text/plain": [
              "Pipeline(memory=None,\n",
              "         steps=[('scaler',\n",
              "                 StandardScaler(copy=True, with_mean=True, with_std=True)),\n",
              "                ('model',\n",
              "                 SVR(C=1.0, cache_size=200, coef0=0.0, degree=3, epsilon=1.0,\n",
              "                     gamma='scale', kernel='linear', max_iter=-1,\n",
              "                     shrinking=True, tol=0.001, verbose=False))],\n",
              "         verbose=False)"
            ]
          },
          "metadata": {
            "tags": []
          },
          "execution_count": 61
        }
      ]
    },
    {
      "cell_type": "markdown",
      "metadata": {
        "id": "4d3ZxGT-rzSF"
      },
      "source": [
        "## Kernel SVR"
      ]
    },
    {
      "cell_type": "markdown",
      "metadata": {
        "id": "sJ4hf_LMr6i4"
      },
      "source": [
        "### 보스턴 주택 가격"
      ]
    },
    {
      "cell_type": "code",
      "metadata": {
        "id": "yGYhTRjFwW9N"
      },
      "source": [
        "X, y = load_boston(return_X_y=True)\n",
        "X_train, X_test, y_train, y_test = train_test_split(X, y ,test_size=0.2)"
      ],
      "execution_count": 62,
      "outputs": []
    },
    {
      "cell_type": "code",
      "metadata": {
        "id": "uwsp9wB5wW9S"
      },
      "source": [
        "scaler = StandardScaler()\n",
        "scaler.fit(X_train)\n",
        "X_train = scaler.transform(X_train)\n",
        "X_test = scaler.transform(X_test)"
      ],
      "execution_count": 63,
      "outputs": []
    },
    {
      "cell_type": "code",
      "metadata": {
        "id": "v1E3AFpdwW9b",
        "outputId": "804cfb45-970f-4039-fb6f-b78fe6081228",
        "colab": {
          "base_uri": "https://localhost:8080/",
          "height": 52
        }
      },
      "source": [
        "model = SVR(kernel='rbf')\n",
        "model.fit(X_train, y_train)"
      ],
      "execution_count": 64,
      "outputs": [
        {
          "output_type": "execute_result",
          "data": {
            "text/plain": [
              "SVR(C=1.0, cache_size=200, coef0=0.0, degree=3, epsilon=0.1, gamma='scale',\n",
              "    kernel='rbf', max_iter=-1, shrinking=True, tol=0.001, verbose=False)"
            ]
          },
          "metadata": {
            "tags": []
          },
          "execution_count": 64
        }
      ]
    },
    {
      "cell_type": "code",
      "metadata": {
        "id": "IOQf7IaOwW9g",
        "outputId": "dc2bf079-a1d5-43ab-e33f-604d639b15e2",
        "colab": {
          "base_uri": "https://localhost:8080/",
          "height": 52
        }
      },
      "source": [
        "print(\"학습 데이터 점수: {}\".format(model.score(X_train, y_train)))\n",
        "print(\"평가 데이터 점수: {}\".format(model.score(X_test, y_test)))"
      ],
      "execution_count": 65,
      "outputs": [
        {
          "output_type": "stream",
          "text": [
            "학습 데이터 점수: 0.6715372583602904\n",
            "평가 데이터 점수: 0.6796956703596322\n"
          ],
          "name": "stdout"
        }
      ]
    },
    {
      "cell_type": "code",
      "metadata": {
        "id": "VI9TLfAAwW9p",
        "outputId": "edabd9d4-ca86-4a31-83bc-cac5f37ed9ff",
        "colab": {
          "base_uri": "https://localhost:8080/",
          "height": 280
        }
      },
      "source": [
        "X_comp = TSNE(n_components = 1).fit_transform(X)\n",
        "plt.scatter(X_comp, y)"
      ],
      "execution_count": 66,
      "outputs": [
        {
          "output_type": "execute_result",
          "data": {
            "text/plain": [
              "<matplotlib.collections.PathCollection at 0x7fe705f8aac8>"
            ]
          },
          "metadata": {
            "tags": []
          },
          "execution_count": 66
        },
        {
          "output_type": "display_data",
          "data": {
            "image/png": "[encoded data removed]",
            "text/plain": [
              "<Figure size 432x288 with 1 Axes>"
            ]
          },
          "metadata": {
            "tags": []
          }
        }
      ]
    },
    {
      "cell_type": "code",
      "metadata": {
        "id": "6LDi-uuiwW9s",
        "outputId": "57c1bccd-fc25-4a5b-bd63-ea89bc50a69b",
        "colab": {
          "base_uri": "https://localhost:8080/",
          "height": 262
        }
      },
      "source": [
        "model.fit(X_comp, y)\n",
        "predict = model.predict(X_comp)\n",
        "plt.scatter(X_comp, y)\n",
        "plt.scatter(X_comp, predict, color='r');"
      ],
      "execution_count": 67,
      "outputs": [
        {
          "output_type": "display_data",
          "data": {
            "image/png": "[encoded data removed]",
            "text/plain": [
              "<Figure size 432x288 with 1 Axes>"
            ]
          },
          "metadata": {
            "tags": []
          }
        }
      ]
    },
    {
      "cell_type": "code",
      "metadata": {
        "id": "sHeFJJ__wW9v",
        "outputId": "d795bdf0-b394-401d-e24a-72bcb59d449b",
        "colab": {
          "base_uri": "https://localhost:8080/",
          "height": 125
        }
      },
      "source": [
        "estimator = make_pipeline(StandardScaler(), SVR(kernel=\"rbf\"))\n",
        "\n",
        "cross_validate(\n",
        "    estimator=estimator,\n",
        "    X= X, y= y,\n",
        "    cv= 5,\n",
        "    n_jobs = multiprocessing.cpu_count(),\n",
        "    verbose=True\n",
        ")"
      ],
      "execution_count": 68,
      "outputs": [
        {
          "output_type": "stream",
          "text": [
            "[Parallel(n_jobs=2)]: Using backend LokyBackend with 2 concurrent workers.\n",
            "[Parallel(n_jobs=2)]: Done   5 out of   5 | elapsed:    0.1s finished\n"
          ],
          "name": "stderr"
        },
        {
          "output_type": "execute_result",
          "data": {
            "text/plain": [
              "{'fit_time': array([0.02659798, 0.02903605, 0.02058578, 0.02010083, 0.01654649]),\n",
              " 'score_time': array([0.00359321, 0.00558925, 0.00338697, 0.00358701, 0.00228786]),\n",
              " 'test_score': array([ 0.75781445,  0.50211018,  0.04310107,  0.33851703, -0.75997942])}"
            ]
          },
          "metadata": {
            "tags": []
          },
          "execution_count": 68
        }
      ]
    },
    {
      "cell_type": "code",
      "metadata": {
        "id": "Q48J9r1swW9y",
        "outputId": "ca07cf6f-8ba6-48f3-eba8-deb61e2e7034",
        "colab": {
          "base_uri": "https://localhost:8080/",
          "height": 390
        }
      },
      "source": [
        "pipe = Pipeline([(\"scaler\", StandardScaler()),\n",
        "                 (\"model\", SVR(kernel='rbf'))])\n",
        "\n",
        "param_grid = [{'model__kernel': ['rbf', 'polynomial','sigmoid']}]\n",
        "\n",
        "gs = GridSearchCV(\n",
        "    estimator = pipe,\n",
        "    param_grid = param_grid,\n",
        "    n_jobs = multiprocessing.cpu_count(),\n",
        "    cv = 5,\n",
        "    verbose=True\n",
        ")\n",
        "\n",
        "gs.fit(X, y)"
      ],
      "execution_count": 69,
      "outputs": [
        {
          "output_type": "stream",
          "text": [
            "Fitting 5 folds for each of 3 candidates, totalling 15 fits\n"
          ],
          "name": "stdout"
        },
        {
          "output_type": "stream",
          "text": [
            "[Parallel(n_jobs=2)]: Using backend LokyBackend with 2 concurrent workers.\n",
            "[Parallel(n_jobs=2)]: Done  12 out of  15 | elapsed:    0.2s remaining:    0.1s\n",
            "[Parallel(n_jobs=2)]: Done  15 out of  15 | elapsed:    0.3s finished\n"
          ],
          "name": "stderr"
        },
        {
          "output_type": "execute_result",
          "data": {
            "text/plain": [
              "GridSearchCV(cv=5, error_score=nan,\n",
              "             estimator=Pipeline(memory=None,\n",
              "                                steps=[('scaler',\n",
              "                                        StandardScaler(copy=True,\n",
              "                                                       with_mean=True,\n",
              "                                                       with_std=True)),\n",
              "                                       ('model',\n",
              "                                        SVR(C=1.0, cache_size=200, coef0=0.0,\n",
              "                                            degree=3, epsilon=0.1,\n",
              "                                            gamma='scale', kernel='rbf',\n",
              "                                            max_iter=-1, shrinking=True,\n",
              "                                            tol=0.001, verbose=False))],\n",
              "                                verbose=False),\n",
              "             iid='deprecated', n_jobs=2,\n",
              "             param_grid=[{'model__kernel': ['rbf', 'polynomial', 'sigmoid']}],\n",
              "             pre_dispatch='2*n_jobs', refit=True, return_train_score=False,\n",
              "             scoring=None, verbose=True)"
            ]
          },
          "metadata": {
            "tags": []
          },
          "execution_count": 69
        }
      ]
    },
    {
      "cell_type": "code",
      "metadata": {
        "id": "-U8zLlfZwW98",
        "outputId": "a0935705-4b8e-4a7e-a576-d3b8be35c116",
        "colab": {
          "base_uri": "https://localhost:8080/",
          "height": 158
        }
      },
      "source": [
        "gs.best_estimator_"
      ],
      "execution_count": 70,
      "outputs": [
        {
          "output_type": "execute_result",
          "data": {
            "text/plain": [
              "Pipeline(memory=None,\n",
              "         steps=[('scaler',\n",
              "                 StandardScaler(copy=True, with_mean=True, with_std=True)),\n",
              "                ('model',\n",
              "                 SVR(C=1.0, cache_size=200, coef0=0.0, degree=3, epsilon=0.1,\n",
              "                     gamma='scale', kernel='rbf', max_iter=-1, shrinking=True,\n",
              "                     tol=0.001, verbose=False))],\n",
              "         verbose=False)"
            ]
          },
          "metadata": {
            "tags": []
          },
          "execution_count": 70
        }
      ]
    },
    {
      "cell_type": "code",
      "metadata": {
        "id": "MabVzR_RDoA_",
        "outputId": "38102d2d-7e17-4d5f-934f-246e4a5d349d",
        "colab": {
          "base_uri": "https://localhost:8080/",
          "height": 407
        }
      },
      "source": [
        "pipe = Pipeline([(\"scaler\", StandardScaler()),\n",
        "                 (\"model\", SVR(kernel='rbf'))])\n",
        "\n",
        "param_grid = [{'model__gamma': ['scale', 'auto'],\n",
        "               \"model__C\": [1.0, 0.1, 0.01],\n",
        "               \"model__epsilon\": [1.0, 0.1, 0.01]}]\n",
        "\n",
        "gs = GridSearchCV(\n",
        "    estimator = pipe,\n",
        "    param_grid = param_grid,\n",
        "    n_jobs = multiprocessing.cpu_count(),\n",
        "    cv = 5,\n",
        "    verbose=True\n",
        ")\n",
        "\n",
        "gs.fit(X, y)"
      ],
      "execution_count": 71,
      "outputs": [
        {
          "output_type": "stream",
          "text": [
            "Fitting 5 folds for each of 18 candidates, totalling 90 fits\n"
          ],
          "name": "stdout"
        },
        {
          "output_type": "stream",
          "text": [
            "[Parallel(n_jobs=2)]: Using backend LokyBackend with 2 concurrent workers.\n",
            "[Parallel(n_jobs=2)]: Done  90 out of  90 | elapsed:    1.1s finished\n"
          ],
          "name": "stderr"
        },
        {
          "output_type": "execute_result",
          "data": {
            "text/plain": [
              "GridSearchCV(cv=5, error_score=nan,\n",
              "             estimator=Pipeline(memory=None,\n",
              "                                steps=[('scaler',\n",
              "                                        StandardScaler(copy=True,\n",
              "                                                       with_mean=True,\n",
              "                                                       with_std=True)),\n",
              "                                       ('model',\n",
              "                                        SVR(C=1.0, cache_size=200, coef0=0.0,\n",
              "                                            degree=3, epsilon=0.1,\n",
              "                                            gamma='scale', kernel='rbf',\n",
              "                                            max_iter=-1, shrinking=True,\n",
              "                                            tol=0.001, verbose=False))],\n",
              "                                verbose=False),\n",
              "             iid='deprecated', n_jobs=2,\n",
              "             param_grid=[{'model__C': [1.0, 0.1, 0.01],\n",
              "                          'model__epsilon': [1.0, 0.1, 0.01],\n",
              "                          'model__gamma': ['scale', 'auto']}],\n",
              "             pre_dispatch='2*n_jobs', refit=True, return_train_score=False,\n",
              "             scoring=None, verbose=True)"
            ]
          },
          "metadata": {
            "tags": []
          },
          "execution_count": 71
        }
      ]
    },
    {
      "cell_type": "code",
      "metadata": {
        "id": "G1KuZZKyEup_",
        "outputId": "e156230a-f55b-4bda-92d0-0c2d1557d529",
        "colab": {
          "base_uri": "https://localhost:8080/",
          "height": 158
        }
      },
      "source": [
        "gs.best_estimator_"
      ],
      "execution_count": 72,
      "outputs": [
        {
          "output_type": "execute_result",
          "data": {
            "text/plain": [
              "Pipeline(memory=None,\n",
              "         steps=[('scaler',\n",
              "                 StandardScaler(copy=True, with_mean=True, with_std=True)),\n",
              "                ('model',\n",
              "                 SVR(C=1.0, cache_size=200, coef0=0.0, degree=3, epsilon=0.01,\n",
              "                     gamma='scale', kernel='rbf', max_iter=-1, shrinking=True,\n",
              "                     tol=0.001, verbose=False))],\n",
              "         verbose=False)"
            ]
          },
          "metadata": {
            "tags": []
          },
          "execution_count": 72
        }
      ]
    },
    {
      "cell_type": "markdown",
      "metadata": {
        "id": "WjmIL-u1r9qU"
      },
      "source": [
        "### 당뇨병"
      ]
    },
    {
      "cell_type": "code",
      "metadata": {
        "id": "3D56T0-oxsh8"
      },
      "source": [
        "X, y = load_diabetes(return_X_y=True)\n",
        "X_train, X_test, y_train, y_test = train_test_split(X, y ,test_size=0.2)"
      ],
      "execution_count": 73,
      "outputs": []
    },
    {
      "cell_type": "code",
      "metadata": {
        "id": "UStZwLTzxsiC"
      },
      "source": [
        "scaler = StandardScaler()\n",
        "scaler.fit(X_train)\n",
        "X_train = scaler.transform(X_train)\n",
        "X_test = scaler.transform(X_test)"
      ],
      "execution_count": 74,
      "outputs": []
    },
    {
      "cell_type": "code",
      "metadata": {
        "id": "8dXFtQebxsiJ",
        "outputId": "b2fdf52a-273e-4d1e-da6b-b01ffb9e7f52",
        "colab": {
          "base_uri": "https://localhost:8080/",
          "height": 52
        }
      },
      "source": [
        "model = SVR(kernel='rbf')\n",
        "model.fit(X_train, y_train)"
      ],
      "execution_count": 75,
      "outputs": [
        {
          "output_type": "execute_result",
          "data": {
            "text/plain": [
              "SVR(C=1.0, cache_size=200, coef0=0.0, degree=3, epsilon=0.1, gamma='scale',\n",
              "    kernel='rbf', max_iter=-1, shrinking=True, tol=0.001, verbose=False)"
            ]
          },
          "metadata": {
            "tags": []
          },
          "execution_count": 75
        }
      ]
    },
    {
      "cell_type": "code",
      "metadata": {
        "id": "9Xa77LVAxsiW",
        "outputId": "84464f30-b270-405a-af72-a05fd5651b8e",
        "colab": {
          "base_uri": "https://localhost:8080/",
          "height": 52
        }
      },
      "source": [
        "print(\"학습 데이터 점수: {}\".format(model.score(X_train, y_train)))\n",
        "print(\"평가 데이터 점수: {}\".format(model.score(X_test, y_test)))"
      ],
      "execution_count": 76,
      "outputs": [
        {
          "output_type": "stream",
          "text": [
            "학습 데이터 점수: 0.18539480657395013\n",
            "평가 데이터 점수: 0.1292294744825575\n"
          ],
          "name": "stdout"
        }
      ]
    },
    {
      "cell_type": "code",
      "metadata": {
        "id": "EfYVnua4xsid",
        "outputId": "df68fc42-30e5-4afc-8592-b35914f857f7",
        "colab": {
          "base_uri": "https://localhost:8080/",
          "height": 280
        }
      },
      "source": [
        "X_comp = TSNE(n_components = 1).fit_transform(X)\n",
        "plt.scatter(X_comp, y)"
      ],
      "execution_count": 77,
      "outputs": [
        {
          "output_type": "execute_result",
          "data": {
            "text/plain": [
              "<matplotlib.collections.PathCollection at 0x7fe705fc5d68>"
            ]
          },
          "metadata": {
            "tags": []
          },
          "execution_count": 77
        },
        {
          "output_type": "display_data",
          "data": {
            "image/png": "[encoded data removed]",
            "text/plain": [
              "<Figure size 432x288 with 1 Axes>"
            ]
          },
          "metadata": {
            "tags": []
          }
        }
      ]
    },
    {
      "cell_type": "code",
      "metadata": {
        "id": "BddS48T8xsih",
        "outputId": "fa083dcf-2552-41bf-bdb2-da08c3718042",
        "colab": {
          "base_uri": "https://localhost:8080/",
          "height": 262
        }
      },
      "source": [
        "model.fit(X_comp, y)\n",
        "predict = model.predict(X_comp)\n",
        "plt.scatter(X_comp, y)\n",
        "plt.scatter(X_comp, predict, color='r');"
      ],
      "execution_count": 78,
      "outputs": [
        {
          "output_type": "display_data",
          "data": {
            "image/png": "[encoded data removed]",
            "text/plain": [
              "<Figure size 432x288 with 1 Axes>"
            ]
          },
          "metadata": {
            "tags": []
          }
        }
      ]
    },
    {
      "cell_type": "code",
      "metadata": {
        "id": "S_wnpb3Dxsik",
        "outputId": "f6086988-5f6b-456a-db54-09102ac95b54",
        "colab": {
          "base_uri": "https://localhost:8080/",
          "height": 125
        }
      },
      "source": [
        "estimator = make_pipeline(StandardScaler(), SVR(kernel=\"rbf\"))\n",
        "\n",
        "cross_validate(\n",
        "    estimator=estimator,\n",
        "    X= X, y= y,\n",
        "    cv= 5,\n",
        "    n_jobs = multiprocessing.cpu_count(),\n",
        "    verbose=True\n",
        ")"
      ],
      "execution_count": 79,
      "outputs": [
        {
          "output_type": "stream",
          "text": [
            "[Parallel(n_jobs=2)]: Using backend LokyBackend with 2 concurrent workers.\n",
            "[Parallel(n_jobs=2)]: Done   5 out of   5 | elapsed:    0.1s finished\n"
          ],
          "name": "stderr"
        },
        {
          "output_type": "execute_result",
          "data": {
            "text/plain": [
              "{'fit_time': array([0.02010131, 0.01909423, 0.0147922 , 0.01426435, 0.01301241]),\n",
              " 'score_time': array([0.00298309, 0.0028038 , 0.00268435, 0.0027566 , 0.00176144]),\n",
              " 'test_score': array([0.14580789, 0.12539919, 0.18163816, 0.12223073, 0.15792085])}"
            ]
          },
          "metadata": {
            "tags": []
          },
          "execution_count": 79
        }
      ]
    },
    {
      "cell_type": "code",
      "metadata": {
        "id": "IW8GAQElxsit",
        "outputId": "c67df261-57f8-42ef-8ad9-87a687a24e60",
        "colab": {
          "base_uri": "https://localhost:8080/",
          "height": 372
        }
      },
      "source": [
        "pipe = Pipeline([(\"scaler\", StandardScaler()),\n",
        "                 (\"model\", SVR(kernel='rbf'))])\n",
        "\n",
        "param_grid = [{'model__kernel': ['rbf', 'polynomial','sigmoid']}]\n",
        "\n",
        "gs = GridSearchCV(\n",
        "    estimator = pipe,\n",
        "    param_grid = param_grid,\n",
        "    n_jobs = multiprocessing.cpu_count(),\n",
        "    cv = 5,\n",
        "    verbose=True\n",
        ")\n",
        "\n",
        "gs.fit(X, y)"
      ],
      "execution_count": 80,
      "outputs": [
        {
          "output_type": "stream",
          "text": [
            "Fitting 5 folds for each of 3 candidates, totalling 15 fits\n"
          ],
          "name": "stdout"
        },
        {
          "output_type": "stream",
          "text": [
            "[Parallel(n_jobs=2)]: Using backend LokyBackend with 2 concurrent workers.\n",
            "[Parallel(n_jobs=2)]: Done  15 out of  15 | elapsed:    0.1s finished\n"
          ],
          "name": "stderr"
        },
        {
          "output_type": "execute_result",
          "data": {
            "text/plain": [
              "GridSearchCV(cv=5, error_score=nan,\n",
              "             estimator=Pipeline(memory=None,\n",
              "                                steps=[('scaler',\n",
              "                                        StandardScaler(copy=True,\n",
              "                                                       with_mean=True,\n",
              "                                                       with_std=True)),\n",
              "                                       ('model',\n",
              "                                        SVR(C=1.0, cache_size=200, coef0=0.0,\n",
              "                                            degree=3, epsilon=0.1,\n",
              "                                            gamma='scale', kernel='rbf',\n",
              "                                            max_iter=-1, shrinking=True,\n",
              "                                            tol=0.001, verbose=False))],\n",
              "                                verbose=False),\n",
              "             iid='deprecated', n_jobs=2,\n",
              "             param_grid=[{'model__kernel': ['rbf', 'polynomial', 'sigmoid']}],\n",
              "             pre_dispatch='2*n_jobs', refit=True, return_train_score=False,\n",
              "             scoring=None, verbose=True)"
            ]
          },
          "metadata": {
            "tags": []
          },
          "execution_count": 80
        }
      ]
    },
    {
      "cell_type": "code",
      "metadata": {
        "id": "OjrpaRAMxsiw",
        "outputId": "fb18fec2-a138-4c07-cf80-b728e3d83dcb",
        "colab": {
          "base_uri": "https://localhost:8080/",
          "height": 158
        }
      },
      "source": [
        "gs.best_estimator_"
      ],
      "execution_count": 81,
      "outputs": [
        {
          "output_type": "execute_result",
          "data": {
            "text/plain": [
              "Pipeline(memory=None,\n",
              "         steps=[('scaler',\n",
              "                 StandardScaler(copy=True, with_mean=True, with_std=True)),\n",
              "                ('model',\n",
              "                 SVR(C=1.0, cache_size=200, coef0=0.0, degree=3, epsilon=0.1,\n",
              "                     gamma='scale', kernel='sigmoid', max_iter=-1,\n",
              "                     shrinking=True, tol=0.001, verbose=False))],\n",
              "         verbose=False)"
            ]
          },
          "metadata": {
            "tags": []
          },
          "execution_count": 81
        }
      ]
    },
    {
      "cell_type": "code",
      "metadata": {
        "id": "reSi8mZAxsi0",
        "outputId": "b02ef6ba-69f5-440e-bd2b-e7a116bd25e0",
        "colab": {
          "base_uri": "https://localhost:8080/",
          "height": 407
        }
      },
      "source": [
        "pipe = Pipeline([(\"scaler\", StandardScaler()),\n",
        "                 (\"model\", SVR(kernel='sigmoid'))])\n",
        "\n",
        "param_grid = [{'model__gamma': ['scale', 'auto'],\n",
        "               \"model__C\": [1.0, 0.1, 0.01],\n",
        "               \"model__epsilon\": [1.0, 0.1, 0.01]}]\n",
        "\n",
        "gs = GridSearchCV(\n",
        "    estimator = pipe,\n",
        "    param_grid = param_grid,\n",
        "    n_jobs = multiprocessing.cpu_count(),\n",
        "    cv = 5,\n",
        "    verbose=True\n",
        ")\n",
        "\n",
        "gs.fit(X, y)"
      ],
      "execution_count": 82,
      "outputs": [
        {
          "output_type": "stream",
          "text": [
            "Fitting 5 folds for each of 18 candidates, totalling 90 fits\n"
          ],
          "name": "stdout"
        },
        {
          "output_type": "stream",
          "text": [
            "[Parallel(n_jobs=2)]: Using backend LokyBackend with 2 concurrent workers.\n",
            "[Parallel(n_jobs=2)]: Done  90 out of  90 | elapsed:    1.0s finished\n"
          ],
          "name": "stderr"
        },
        {
          "output_type": "execute_result",
          "data": {
            "text/plain": [
              "GridSearchCV(cv=5, error_score=nan,\n",
              "             estimator=Pipeline(memory=None,\n",
              "                                steps=[('scaler',\n",
              "                                        StandardScaler(copy=True,\n",
              "                                                       with_mean=True,\n",
              "                                                       with_std=True)),\n",
              "                                       ('model',\n",
              "                                        SVR(C=1.0, cache_size=200, coef0=0.0,\n",
              "                                            degree=3, epsilon=0.1,\n",
              "                                            gamma='scale', kernel='sigmoid',\n",
              "                                            max_iter=-1, shrinking=True,\n",
              "                                            tol=0.001, verbose=False))],\n",
              "                                verbose=False),\n",
              "             iid='deprecated', n_jobs=2,\n",
              "             param_grid=[{'model__C': [1.0, 0.1, 0.01],\n",
              "                          'model__epsilon': [1.0, 0.1, 0.01],\n",
              "                          'model__gamma': ['scale', 'auto']}],\n",
              "             pre_dispatch='2*n_jobs', refit=True, return_train_score=False,\n",
              "             scoring=None, verbose=True)"
            ]
          },
          "metadata": {
            "tags": []
          },
          "execution_count": 82
        }
      ]
    },
    {
      "cell_type": "code",
      "metadata": {
        "id": "tK4hP85yxsi-",
        "outputId": "147cfcaf-8107-42e0-e64d-6b8c034d9ea2",
        "colab": {
          "base_uri": "https://localhost:8080/",
          "height": 158
        }
      },
      "source": [
        "gs.best_estimator_"
      ],
      "execution_count": 83,
      "outputs": [
        {
          "output_type": "execute_result",
          "data": {
            "text/plain": [
              "Pipeline(memory=None,\n",
              "         steps=[('scaler',\n",
              "                 StandardScaler(copy=True, with_mean=True, with_std=True)),\n",
              "                ('model',\n",
              "                 SVR(C=1.0, cache_size=200, coef0=0.0, degree=3, epsilon=1.0,\n",
              "                     gamma='auto', kernel='sigmoid', max_iter=-1,\n",
              "                     shrinking=True, tol=0.001, verbose=False))],\n",
              "         verbose=False)"
            ]
          },
          "metadata": {
            "tags": []
          },
          "execution_count": 83
        }
      ]
    },
    {
      "cell_type": "code",
      "metadata": {
        "id": "AmFCvtJlI99z",
        "outputId": "593f0f50-5168-471a-9489-eec2ef2c1cdf",
        "colab": {
          "base_uri": "https://localhost:8080/",
          "height": 158
        }
      },
      "source": [
        "model = gs.best_estimator_\n",
        "model.fit(X_train, y_train)"
      ],
      "execution_count": 84,
      "outputs": [
        {
          "output_type": "execute_result",
          "data": {
            "text/plain": [
              "Pipeline(memory=None,\n",
              "         steps=[('scaler',\n",
              "                 StandardScaler(copy=True, with_mean=True, with_std=True)),\n",
              "                ('model',\n",
              "                 SVR(C=1.0, cache_size=200, coef0=0.0, degree=3, epsilon=1.0,\n",
              "                     gamma='auto', kernel='sigmoid', max_iter=-1,\n",
              "                     shrinking=True, tol=0.001, verbose=False))],\n",
              "         verbose=False)"
            ]
          },
          "metadata": {
            "tags": []
          },
          "execution_count": 84
        }
      ]
    },
    {
      "cell_type": "code",
      "metadata": {
        "id": "vbi19fstK0cl",
        "outputId": "5d98ffc5-3aaa-4a1a-cd1e-d6ad6a3bfd9e",
        "colab": {
          "base_uri": "https://localhost:8080/",
          "height": 52
        }
      },
      "source": [
        "print(\"학습 데이터 점수: {}\".format(model.score(X_train, y_train)))\n",
        "print(\"평가 데이터 점수: {}\".format(model.score(X_test, y_test)))"
      ],
      "execution_count": 85,
      "outputs": [
        {
          "output_type": "stream",
          "text": [
            "학습 데이터 점수: 0.39919100130760954\n",
            "평가 데이터 점수: 0.2559060342973408\n"
          ],
          "name": "stdout"
        }
      ]
    },
    {
      "cell_type": "markdown",
      "metadata": {
        "id": "iW0DXTLrNya-"
      },
      "source": [
        "## Linear SVC"
      ]
    },
    {
      "cell_type": "markdown",
      "metadata": {
        "id": "1b30IAFxN8XR"
      },
      "source": [
        "### 유방암"
      ]
    },
    {
      "cell_type": "code",
      "metadata": {
        "id": "jyKjYuAnzOPg"
      },
      "source": [
        "X, y = load_breast_cancer(return_X_y=True)\n",
        "X_train, X_test, y_train, y_test = train_test_split(X, y ,test_size=0.2)"
      ],
      "execution_count": 86,
      "outputs": []
    },
    {
      "cell_type": "code",
      "metadata": {
        "id": "o9wxYeRnzOPq"
      },
      "source": [
        "scaler = StandardScaler()\n",
        "scaler.fit(X_train)\n",
        "X_train = scaler.transform(X_train)\n",
        "X_test = scaler.transform(X_test)"
      ],
      "execution_count": 87,
      "outputs": []
    },
    {
      "cell_type": "code",
      "metadata": {
        "id": "_GvWvp7dzOPu",
        "outputId": "7c8514d3-468d-4c8c-f0db-7b85120e14d4",
        "colab": {
          "base_uri": "https://localhost:8080/",
          "height": 87
        }
      },
      "source": [
        "model = SVC(kernel='linear')\n",
        "model.fit(X_train, y_train)"
      ],
      "execution_count": 88,
      "outputs": [
        {
          "output_type": "execute_result",
          "data": {
            "text/plain": [
              "SVC(C=1.0, break_ties=False, cache_size=200, class_weight=None, coef0=0.0,\n",
              "    decision_function_shape='ovr', degree=3, gamma='scale', kernel='linear',\n",
              "    max_iter=-1, probability=False, random_state=None, shrinking=True,\n",
              "    tol=0.001, verbose=False)"
            ]
          },
          "metadata": {
            "tags": []
          },
          "execution_count": 88
        }
      ]
    },
    {
      "cell_type": "code",
      "metadata": {
        "id": "nci4MN4lzOPy",
        "outputId": "b5a8ec80-9f10-4ee9-9403-85337f6c94f1",
        "colab": {
          "base_uri": "https://localhost:8080/",
          "height": 52
        }
      },
      "source": [
        "print(\"학습 데이터 점수: {}\".format(model.score(X_train, y_train)))\n",
        "print(\"평가 데이터 점수: {}\".format(model.score(X_test, y_test)))"
      ],
      "execution_count": 89,
      "outputs": [
        {
          "output_type": "stream",
          "text": [
            "학습 데이터 점수: 0.989010989010989\n",
            "평가 데이터 점수: 0.9736842105263158\n"
          ],
          "name": "stdout"
        }
      ]
    },
    {
      "cell_type": "code",
      "metadata": {
        "id": "h5PwxYDfzquO"
      },
      "source": [
        "def make_meshgrid(x, y, h = 0.02):\n",
        "  x_min, x_max = x.min()-1, x.max()+1\n",
        "  y_min, y_max = y.min()-1, y.max()+1\n",
        "  xx, yy = np.meshgrid(np.arange(x_min, x_max, h),\n",
        "                       np.arange(y_min, y_max, h))\n",
        "  \n",
        "  return xx, yy"
      ],
      "execution_count": 92,
      "outputs": []
    },
    {
      "cell_type": "code",
      "metadata": {
        "id": "B1ucAuazzwYZ"
      },
      "source": [
        "def plot_contours(clf, xx, yy, **params):\n",
        "  Z = clf.predict(np.c_[xx.ravel(), yy.ravel()])\n",
        "  Z = Z.reshape(xx.shape)\n",
        "\n",
        "  out = plt.contourf(xx, yy, Z, **params)\n",
        "\n",
        "  return out"
      ],
      "execution_count": 93,
      "outputs": []
    },
    {
      "cell_type": "code",
      "metadata": {
        "id": "nWS829FtzOP7"
      },
      "source": [
        "X_comp = TSNE(n_components = 2).fit_transform(X)\n",
        "X0, X1 = X_comp[:,0], X_comp[:,1]\n",
        "xx, yy = make_meshgrid(X0, X1)"
      ],
      "execution_count": 95,
      "outputs": []
    },
    {
      "cell_type": "code",
      "metadata": {
        "id": "vrGxoYXkzOQI",
        "outputId": "73888a01-a475-4149-f94e-14d091eec157",
        "colab": {
          "base_uri": "https://localhost:8080/",
          "height": 262
        }
      },
      "source": [
        "model.fit(X_comp, y)\n",
        "plot_contours(model, xx, yy, cmap=plt.cm.coolwarm, alpha=0.7)\n",
        "plt.scatter(X0, X1, c=y, cmap = plt.cm.coolwarm, s=20, edgecolors='k');"
      ],
      "execution_count": 96,
      "outputs": [
        {
          "output_type": "display_data",
          "data": {
            "image/png": "[encoded data removed]",
            "text/plain": [
              "<Figure size 432x288 with 1 Axes>"
            ]
          },
          "metadata": {
            "tags": []
          }
        }
      ]
    },
    {
      "cell_type": "code",
      "metadata": {
        "id": "qx62NjySzOQM",
        "outputId": "c0ab7685-99f2-499e-bf42-9c651631e40d",
        "colab": {
          "base_uri": "https://localhost:8080/",
          "height": 125
        }
      },
      "source": [
        "estimator = make_pipeline(StandardScaler(), SVC(kernel=\"linear\"))\n",
        "\n",
        "cross_validate(\n",
        "    estimator=estimator,\n",
        "    X= X, y= y,\n",
        "    cv= 5,\n",
        "    n_jobs = multiprocessing.cpu_count(),\n",
        "    verbose=True\n",
        ")"
      ],
      "execution_count": 97,
      "outputs": [
        {
          "output_type": "stream",
          "text": [
            "[Parallel(n_jobs=2)]: Using backend LokyBackend with 2 concurrent workers.\n",
            "[Parallel(n_jobs=2)]: Done   5 out of   5 | elapsed:    0.8s finished\n"
          ],
          "name": "stderr"
        },
        {
          "output_type": "execute_result",
          "data": {
            "text/plain": [
              "{'fit_time': array([0.00952792, 0.00652957, 0.00634933, 0.0053525 , 0.00561309]),\n",
              " 'score_time': array([0.0011642 , 0.00102329, 0.00090456, 0.0007987 , 0.00089884]),\n",
              " 'test_score': array([0.96491228, 0.98245614, 0.96491228, 0.96491228, 0.98230088])}"
            ]
          },
          "metadata": {
            "tags": []
          },
          "execution_count": 97
        }
      ]
    },
    {
      "cell_type": "code",
      "metadata": {
        "id": "K1od5pblzOQb",
        "outputId": "076628d8-b1ee-4167-9d9e-de92427abaa1",
        "colab": {
          "base_uri": "https://localhost:8080/",
          "height": 461
        }
      },
      "source": [
        "pipe = Pipeline([(\"scaler\", StandardScaler()),\n",
        "                 (\"model\", SVC(kernel='linear'))])\n",
        "\n",
        "param_grid = [{'model__gamma': ['scale', 'auto'],\n",
        "               \"model__C\": [1.0, 0.1, 0.01]}]\n",
        "\n",
        "gs = GridSearchCV(\n",
        "    estimator = pipe,\n",
        "    param_grid = param_grid,\n",
        "    n_jobs = multiprocessing.cpu_count(),\n",
        "    cv = 5,\n",
        "    verbose=True\n",
        ")\n",
        "\n",
        "gs.fit(X, y)"
      ],
      "execution_count": 98,
      "outputs": [
        {
          "output_type": "stream",
          "text": [
            "Fitting 5 folds for each of 6 candidates, totalling 30 fits\n"
          ],
          "name": "stdout"
        },
        {
          "output_type": "stream",
          "text": [
            "[Parallel(n_jobs=2)]: Using backend LokyBackend with 2 concurrent workers.\n",
            "[Parallel(n_jobs=2)]: Done  30 out of  30 | elapsed:    0.2s finished\n"
          ],
          "name": "stderr"
        },
        {
          "output_type": "execute_result",
          "data": {
            "text/plain": [
              "GridSearchCV(cv=5, error_score=nan,\n",
              "             estimator=Pipeline(memory=None,\n",
              "                                steps=[('scaler',\n",
              "                                        StandardScaler(copy=True,\n",
              "                                                       with_mean=True,\n",
              "                                                       with_std=True)),\n",
              "                                       ('model',\n",
              "                                        SVC(C=1.0, break_ties=False,\n",
              "                                            cache_size=200, class_weight=None,\n",
              "                                            coef0=0.0,\n",
              "                                            decision_function_shape='ovr',\n",
              "                                            degree=3, gamma='scale',\n",
              "                                            kernel='linear', max_iter=-1,\n",
              "                                            probability=False,\n",
              "                                            random_state=None, shrinking=True,\n",
              "                                            tol=0.001, verbose=False))],\n",
              "                                verbose=False),\n",
              "             iid='deprecated', n_jobs=2,\n",
              "             param_grid=[{'model__C': [1.0, 0.1, 0.01],\n",
              "                          'model__gamma': ['scale', 'auto']}],\n",
              "             pre_dispatch='2*n_jobs', refit=True, return_train_score=False,\n",
              "             scoring=None, verbose=True)"
            ]
          },
          "metadata": {
            "tags": []
          },
          "execution_count": 98
        }
      ]
    },
    {
      "cell_type": "code",
      "metadata": {
        "id": "bGXLFySGzOQj",
        "outputId": "eb247816-f26a-4ccd-868c-6a4b7bded681",
        "colab": {
          "base_uri": "https://localhost:8080/",
          "height": 194
        }
      },
      "source": [
        "gs.best_estimator_"
      ],
      "execution_count": 99,
      "outputs": [
        {
          "output_type": "execute_result",
          "data": {
            "text/plain": [
              "Pipeline(memory=None,\n",
              "         steps=[('scaler',\n",
              "                 StandardScaler(copy=True, with_mean=True, with_std=True)),\n",
              "                ('model',\n",
              "                 SVC(C=0.1, break_ties=False, cache_size=200, class_weight=None,\n",
              "                     coef0=0.0, decision_function_shape='ovr', degree=3,\n",
              "                     gamma='scale', kernel='linear', max_iter=-1,\n",
              "                     probability=False, random_state=None, shrinking=True,\n",
              "                     tol=0.001, verbose=False))],\n",
              "         verbose=False)"
            ]
          },
          "metadata": {
            "tags": []
          },
          "execution_count": 99
        }
      ]
    },
    {
      "cell_type": "code",
      "metadata": {
        "id": "7lb5mhi_zOQy",
        "outputId": "147cfcaf-8107-42e0-e64d-6b8c034d9ea2",
        "colab": {
          "base_uri": "https://localhost:8080/",
          "height": 158
        }
      },
      "source": [
        "gs.best_estimator_"
      ],
      "execution_count": null,
      "outputs": [
        {
          "output_type": "execute_result",
          "data": {
            "text/plain": [
              "Pipeline(memory=None,\n",
              "         steps=[('scaler',\n",
              "                 StandardScaler(copy=True, with_mean=True, with_std=True)),\n",
              "                ('model',\n",
              "                 SVR(C=1.0, cache_size=200, coef0=0.0, degree=3, epsilon=1.0,\n",
              "                     gamma='auto', kernel='sigmoid', max_iter=-1,\n",
              "                     shrinking=True, tol=0.001, verbose=False))],\n",
              "         verbose=False)"
            ]
          },
          "metadata": {
            "tags": []
          },
          "execution_count": 83
        }
      ]
    },
    {
      "cell_type": "code",
      "metadata": {
        "id": "Qm2X9mHfzOQ6",
        "outputId": "7df54824-2bb6-454a-c988-0243389320f8",
        "colab": {
          "base_uri": "https://localhost:8080/",
          "height": 194
        }
      },
      "source": [
        "model = gs.best_estimator_\n",
        "model.fit(X_train, y_train)"
      ],
      "execution_count": 100,
      "outputs": [
        {
          "output_type": "execute_result",
          "data": {
            "text/plain": [
              "Pipeline(memory=None,\n",
              "         steps=[('scaler',\n",
              "                 StandardScaler(copy=True, with_mean=True, with_std=True)),\n",
              "                ('model',\n",
              "                 SVC(C=0.1, break_ties=False, cache_size=200, class_weight=None,\n",
              "                     coef0=0.0, decision_function_shape='ovr', degree=3,\n",
              "                     gamma='scale', kernel='linear', max_iter=-1,\n",
              "                     probability=False, random_state=None, shrinking=True,\n",
              "                     tol=0.001, verbose=False))],\n",
              "         verbose=False)"
            ]
          },
          "metadata": {
            "tags": []
          },
          "execution_count": 100
        }
      ]
    },
    {
      "cell_type": "code",
      "metadata": {
        "id": "Lhl1qSJQzORB",
        "outputId": "a38fb3aa-9d3e-4910-dc30-3c56a6031f1d",
        "colab": {
          "base_uri": "https://localhost:8080/",
          "height": 52
        }
      },
      "source": [
        "print(\"학습 데이터 점수: {}\".format(model.score(X_train, y_train)))\n",
        "print(\"평가 데이터 점수: {}\".format(model.score(X_test, y_test)))"
      ],
      "execution_count": 101,
      "outputs": [
        {
          "output_type": "stream",
          "text": [
            "학습 데이터 점수: 0.9846153846153847\n",
            "평가 데이터 점수: 0.9736842105263158\n"
          ],
          "name": "stdout"
        }
      ]
    },
    {
      "cell_type": "markdown",
      "metadata": {
        "id": "jJfcIODbN6ec"
      },
      "source": [
        "### 붓꽃"
      ]
    },
    {
      "cell_type": "code",
      "metadata": {
        "id": "TdE-n6b92gyf"
      },
      "source": [
        "X, y = load_iris(return_X_y=True)\n",
        "X_train, X_test, y_train, y_test = train_test_split(X, y ,test_size=0.2)"
      ],
      "execution_count": 102,
      "outputs": []
    },
    {
      "cell_type": "code",
      "metadata": {
        "id": "Zip4A7222gyn"
      },
      "source": [
        "scaler = StandardScaler()\n",
        "scaler.fit(X_train)\n",
        "X_train = scaler.transform(X_train)\n",
        "X_test = scaler.transform(X_test)"
      ],
      "execution_count": 103,
      "outputs": []
    },
    {
      "cell_type": "code",
      "metadata": {
        "id": "bUGzjLg-2gys",
        "outputId": "ebef9909-df00-411f-c699-94a642f5575e",
        "colab": {
          "base_uri": "https://localhost:8080/",
          "height": 87
        }
      },
      "source": [
        "model = SVC(kernel='linear')\n",
        "model.fit(X_train, y_train)"
      ],
      "execution_count": 104,
      "outputs": [
        {
          "output_type": "execute_result",
          "data": {
            "text/plain": [
              "SVC(C=1.0, break_ties=False, cache_size=200, class_weight=None, coef0=0.0,\n",
              "    decision_function_shape='ovr', degree=3, gamma='scale', kernel='linear',\n",
              "    max_iter=-1, probability=False, random_state=None, shrinking=True,\n",
              "    tol=0.001, verbose=False)"
            ]
          },
          "metadata": {
            "tags": []
          },
          "execution_count": 104
        }
      ]
    },
    {
      "cell_type": "code",
      "metadata": {
        "id": "nwDtoElK2gyv",
        "outputId": "0ebfcbf3-10e1-46ef-f256-0e5f2357cbca",
        "colab": {
          "base_uri": "https://localhost:8080/",
          "height": 52
        }
      },
      "source": [
        "print(\"학습 데이터 점수: {}\".format(model.score(X_train, y_train)))\n",
        "print(\"평가 데이터 점수: {}\".format(model.score(X_test, y_test)))"
      ],
      "execution_count": 105,
      "outputs": [
        {
          "output_type": "stream",
          "text": [
            "학습 데이터 점수: 0.9833333333333333\n",
            "평가 데이터 점수: 1.0\n"
          ],
          "name": "stdout"
        }
      ]
    },
    {
      "cell_type": "code",
      "metadata": {
        "id": "pIhceD3w2gy8"
      },
      "source": [
        "X_comp = TSNE(n_components = 2).fit_transform(X)\n",
        "X0, X1 = X_comp[:,0], X_comp[:,1]\n",
        "xx, yy = make_meshgrid(X0, X1)"
      ],
      "execution_count": 106,
      "outputs": []
    },
    {
      "cell_type": "code",
      "metadata": {
        "id": "kDaDa3512gy_",
        "outputId": "6c3a9ec9-a4dc-4a04-d2c1-b77edc6e6a58",
        "colab": {
          "base_uri": "https://localhost:8080/",
          "height": 262
        }
      },
      "source": [
        "model.fit(X_comp, y)\n",
        "plot_contours(model, xx, yy, cmap=plt.cm.coolwarm, alpha=0.7)\n",
        "plt.scatter(X0, X1, c=y, cmap = plt.cm.coolwarm, s=20, edgecolors='k');"
      ],
      "execution_count": 107,
      "outputs": [
        {
          "output_type": "display_data",
          "data": {
            "image/png": "[encoded data removed]",
            "text/plain": [
              "<Figure size 432x288 with 1 Axes>"
            ]
          },
          "metadata": {
            "tags": []
          }
        }
      ]
    },
    {
      "cell_type": "code",
      "metadata": {
        "id": "WcKHib6W2gzD",
        "outputId": "8bbd5261-d70a-4833-d790-7652945e4839",
        "colab": {
          "base_uri": "https://localhost:8080/",
          "height": 125
        }
      },
      "source": [
        "estimator = make_pipeline(StandardScaler(), SVC(kernel=\"linear\"))\n",
        "\n",
        "cross_validate(\n",
        "    estimator=estimator,\n",
        "    X= X, y= y,\n",
        "    cv= 5,\n",
        "    n_jobs = multiprocessing.cpu_count(),\n",
        "    verbose=True\n",
        ")"
      ],
      "execution_count": 108,
      "outputs": [
        {
          "output_type": "stream",
          "text": [
            "[Parallel(n_jobs=2)]: Using backend LokyBackend with 2 concurrent workers.\n",
            "[Parallel(n_jobs=2)]: Done   5 out of   5 | elapsed:    0.8s finished\n"
          ],
          "name": "stderr"
        },
        {
          "output_type": "execute_result",
          "data": {
            "text/plain": [
              "{'fit_time': array([0.00285959, 0.00284052, 0.0018878 , 0.00162578, 0.00145912]),\n",
              " 'score_time': array([0.00075865, 0.00081015, 0.00059628, 0.00056076, 0.00054336]),\n",
              " 'test_score': array([0.96666667, 1.        , 0.93333333, 0.93333333, 1.        ])}"
            ]
          },
          "metadata": {
            "tags": []
          },
          "execution_count": 108
        }
      ]
    },
    {
      "cell_type": "code",
      "metadata": {
        "id": "Zqibxk_T2gzJ",
        "outputId": "6d2cde19-4dd9-4e2d-f0ec-ab838eb259be",
        "colab": {
          "base_uri": "https://localhost:8080/",
          "height": 461
        }
      },
      "source": [
        "pipe = Pipeline([(\"scaler\", StandardScaler()),\n",
        "                 (\"model\", SVC(kernel='linear'))])\n",
        "\n",
        "param_grid = [{'model__gamma': ['scale', 'auto'],\n",
        "               \"model__C\": [1.0, 0.1, 0.01]}]\n",
        "\n",
        "gs = GridSearchCV(\n",
        "    estimator = pipe,\n",
        "    param_grid = param_grid,\n",
        "    n_jobs = multiprocessing.cpu_count(),\n",
        "    cv = 5,\n",
        "    verbose=True\n",
        ")\n",
        "\n",
        "gs.fit(X, y)"
      ],
      "execution_count": 109,
      "outputs": [
        {
          "output_type": "stream",
          "text": [
            "Fitting 5 folds for each of 6 candidates, totalling 30 fits\n"
          ],
          "name": "stdout"
        },
        {
          "output_type": "stream",
          "text": [
            "[Parallel(n_jobs=2)]: Using backend LokyBackend with 2 concurrent workers.\n",
            "[Parallel(n_jobs=2)]: Done  30 out of  30 | elapsed:    0.1s finished\n"
          ],
          "name": "stderr"
        },
        {
          "output_type": "execute_result",
          "data": {
            "text/plain": [
              "GridSearchCV(cv=5, error_score=nan,\n",
              "             estimator=Pipeline(memory=None,\n",
              "                                steps=[('scaler',\n",
              "                                        StandardScaler(copy=True,\n",
              "                                                       with_mean=True,\n",
              "                                                       with_std=True)),\n",
              "                                       ('model',\n",
              "                                        SVC(C=1.0, break_ties=False,\n",
              "                                            cache_size=200, class_weight=None,\n",
              "                                            coef0=0.0,\n",
              "                                            decision_function_shape='ovr',\n",
              "                                            degree=3, gamma='scale',\n",
              "                                            kernel='linear', max_iter=-1,\n",
              "                                            probability=False,\n",
              "                                            random_state=None, shrinking=True,\n",
              "                                            tol=0.001, verbose=False))],\n",
              "                                verbose=False),\n",
              "             iid='deprecated', n_jobs=2,\n",
              "             param_grid=[{'model__C': [1.0, 0.1, 0.01],\n",
              "                          'model__gamma': ['scale', 'auto']}],\n",
              "             pre_dispatch='2*n_jobs', refit=True, return_train_score=False,\n",
              "             scoring=None, verbose=True)"
            ]
          },
          "metadata": {
            "tags": []
          },
          "execution_count": 109
        }
      ]
    },
    {
      "cell_type": "code",
      "metadata": {
        "id": "hHjGAF8S2gzM",
        "outputId": "8e52f606-afc1-48c3-d804-087c35405b6a",
        "colab": {
          "base_uri": "https://localhost:8080/",
          "height": 194
        }
      },
      "source": [
        "gs.best_estimator_"
      ],
      "execution_count": 110,
      "outputs": [
        {
          "output_type": "execute_result",
          "data": {
            "text/plain": [
              "Pipeline(memory=None,\n",
              "         steps=[('scaler',\n",
              "                 StandardScaler(copy=True, with_mean=True, with_std=True)),\n",
              "                ('model',\n",
              "                 SVC(C=1.0, break_ties=False, cache_size=200, class_weight=None,\n",
              "                     coef0=0.0, decision_function_shape='ovr', degree=3,\n",
              "                     gamma='scale', kernel='linear', max_iter=-1,\n",
              "                     probability=False, random_state=None, shrinking=True,\n",
              "                     tol=0.001, verbose=False))],\n",
              "         verbose=False)"
            ]
          },
          "metadata": {
            "tags": []
          },
          "execution_count": 110
        }
      ]
    },
    {
      "cell_type": "code",
      "metadata": {
        "id": "rTdGujQt2gzS",
        "outputId": "6fba28dd-062f-48c5-be5a-3e567625a4e4",
        "colab": {
          "base_uri": "https://localhost:8080/",
          "height": 194
        }
      },
      "source": [
        "model = gs.best_estimator_\n",
        "model.fit(X_train, y_train)"
      ],
      "execution_count": 111,
      "outputs": [
        {
          "output_type": "execute_result",
          "data": {
            "text/plain": [
              "Pipeline(memory=None,\n",
              "         steps=[('scaler',\n",
              "                 StandardScaler(copy=True, with_mean=True, with_std=True)),\n",
              "                ('model',\n",
              "                 SVC(C=1.0, break_ties=False, cache_size=200, class_weight=None,\n",
              "                     coef0=0.0, decision_function_shape='ovr', degree=3,\n",
              "                     gamma='scale', kernel='linear', max_iter=-1,\n",
              "                     probability=False, random_state=None, shrinking=True,\n",
              "                     tol=0.001, verbose=False))],\n",
              "         verbose=False)"
            ]
          },
          "metadata": {
            "tags": []
          },
          "execution_count": 111
        }
      ]
    },
    {
      "cell_type": "code",
      "metadata": {
        "id": "Is5sLdbj2gzZ",
        "outputId": "0d0d2fa5-5f19-4214-afb7-835cb3fbd366",
        "colab": {
          "base_uri": "https://localhost:8080/",
          "height": 52
        }
      },
      "source": [
        "print(\"학습 데이터 점수: {}\".format(model.score(X_train, y_train)))\n",
        "print(\"평가 데이터 점수: {}\".format(model.score(X_test, y_test)))"
      ],
      "execution_count": 112,
      "outputs": [
        {
          "output_type": "stream",
          "text": [
            "학습 데이터 점수: 0.9833333333333333\n",
            "평가 데이터 점수: 1.0\n"
          ],
          "name": "stdout"
        }
      ]
    },
    {
      "cell_type": "markdown",
      "metadata": {
        "id": "fGErBCXR3P_p"
      },
      "source": [
        "### 와인"
      ]
    },
    {
      "cell_type": "code",
      "metadata": {
        "id": "i7yVNgV33ekD"
      },
      "source": [
        "X, y = load_wine(return_X_y=True)\n",
        "X_train, X_test, y_train, y_test = train_test_split(X, y ,test_size=0.2)"
      ],
      "execution_count": 113,
      "outputs": []
    },
    {
      "cell_type": "code",
      "metadata": {
        "id": "LqAvSLWK3ekT"
      },
      "source": [
        "scaler = StandardScaler()\n",
        "scaler.fit(X_train)\n",
        "X_train = scaler.transform(X_train)\n",
        "X_test = scaler.transform(X_test)"
      ],
      "execution_count": 114,
      "outputs": []
    },
    {
      "cell_type": "code",
      "metadata": {
        "id": "K3Fqsxxo3ekj",
        "outputId": "0361ed0f-6c8e-448c-a123-44014abee4ce",
        "colab": {
          "base_uri": "https://localhost:8080/",
          "height": 87
        }
      },
      "source": [
        "model = SVC(kernel='linear')\n",
        "model.fit(X_train, y_train)"
      ],
      "execution_count": 115,
      "outputs": [
        {
          "output_type": "execute_result",
          "data": {
            "text/plain": [
              "SVC(C=1.0, break_ties=False, cache_size=200, class_weight=None, coef0=0.0,\n",
              "    decision_function_shape='ovr', degree=3, gamma='scale', kernel='linear',\n",
              "    max_iter=-1, probability=False, random_state=None, shrinking=True,\n",
              "    tol=0.001, verbose=False)"
            ]
          },
          "metadata": {
            "tags": []
          },
          "execution_count": 115
        }
      ]
    },
    {
      "cell_type": "code",
      "metadata": {
        "id": "Yp3ESm6N3ekp",
        "outputId": "b915ae4f-0741-4950-ba7b-92c13dab2b44",
        "colab": {
          "base_uri": "https://localhost:8080/",
          "height": 52
        }
      },
      "source": [
        "print(\"학습 데이터 점수: {}\".format(model.score(X_train, y_train)))\n",
        "print(\"평가 데이터 점수: {}\".format(model.score(X_test, y_test)))"
      ],
      "execution_count": 116,
      "outputs": [
        {
          "output_type": "stream",
          "text": [
            "학습 데이터 점수: 1.0\n",
            "평가 데이터 점수: 1.0\n"
          ],
          "name": "stdout"
        }
      ]
    },
    {
      "cell_type": "code",
      "metadata": {
        "id": "Fn9kv-Ax3ek2"
      },
      "source": [
        "X_comp = TSNE(n_components = 2).fit_transform(X)\n",
        "X0, X1 = X_comp[:,0], X_comp[:,1]\n",
        "xx, yy = make_meshgrid(X0, X1)"
      ],
      "execution_count": 117,
      "outputs": []
    },
    {
      "cell_type": "code",
      "metadata": {
        "id": "PjIguF4A3ek7",
        "outputId": "d435fac3-2c37-47a9-8c93-4ec539e60bc3",
        "colab": {
          "base_uri": "https://localhost:8080/",
          "height": 262
        }
      },
      "source": [
        "model.fit(X_comp, y)\n",
        "\n",
        "plot_contours(model, xx, yy, cmap=plt.cm.coolwarm, alpha=0.7)\n",
        "plt.scatter(X0, X1, c=y, cmap = plt.cm.coolwarm, s=20, edgecolors='k');"
      ],
      "execution_count": 118,
      "outputs": [
        {
          "output_type": "display_data",
          "data": {
            "image/png": "[encoded data removed]",
            "text/plain": [
              "<Figure size 432x288 with 1 Axes>"
            ]
          },
          "metadata": {
            "tags": []
          }
        }
      ]
    },
    {
      "cell_type": "code",
      "metadata": {
        "id": "Ntvcy8_D3elC",
        "outputId": "fd956d0a-1e14-4254-f59b-4f5824b7a57c",
        "colab": {
          "base_uri": "https://localhost:8080/",
          "height": 125
        }
      },
      "source": [
        "estimator = make_pipeline(StandardScaler(), SVC(kernel=\"linear\"))\n",
        "\n",
        "cross_validate(\n",
        "    estimator=estimator,\n",
        "    X= X, y= y,\n",
        "    cv= 5,\n",
        "    n_jobs = multiprocessing.cpu_count(),\n",
        "    verbose=True\n",
        ")"
      ],
      "execution_count": 119,
      "outputs": [
        {
          "output_type": "stream",
          "text": [
            "[Parallel(n_jobs=2)]: Using backend LokyBackend with 2 concurrent workers.\n",
            "[Parallel(n_jobs=2)]: Done   5 out of   5 | elapsed:    0.0s finished\n"
          ],
          "name": "stderr"
        },
        {
          "output_type": "execute_result",
          "data": {
            "text/plain": [
              "{'fit_time': array([0.00287724, 0.00352597, 0.00444317, 0.00517726, 0.00176263]),\n",
              " 'score_time': array([0.00080419, 0.00169086, 0.00049615, 0.00062895, 0.00054288]),\n",
              " 'test_score': array([0.94444444, 0.97222222, 0.97222222, 0.97142857, 0.94285714])}"
            ]
          },
          "metadata": {
            "tags": []
          },
          "execution_count": 119
        }
      ]
    },
    {
      "cell_type": "code",
      "metadata": {
        "id": "-Pc7hakN3elF",
        "outputId": "979dd916-596c-40d6-e262-9d3da7b0cdfd",
        "colab": {
          "base_uri": "https://localhost:8080/",
          "height": 461
        }
      },
      "source": [
        "pipe = Pipeline([(\"scaler\", StandardScaler()),\n",
        "                 (\"model\", SVC(kernel='linear'))])\n",
        "\n",
        "param_grid = [{'model__gamma': ['scale', 'auto'],\n",
        "               \"model__C\": [1.0, 0.1, 0.01]}]\n",
        "\n",
        "gs = GridSearchCV(\n",
        "    estimator = pipe,\n",
        "    param_grid = param_grid,\n",
        "    n_jobs = multiprocessing.cpu_count(),\n",
        "    cv = 5,\n",
        "    verbose=True\n",
        ")\n",
        "\n",
        "gs.fit(X, y)"
      ],
      "execution_count": 120,
      "outputs": [
        {
          "output_type": "stream",
          "text": [
            "Fitting 5 folds for each of 6 candidates, totalling 30 fits\n"
          ],
          "name": "stdout"
        },
        {
          "output_type": "stream",
          "text": [
            "[Parallel(n_jobs=2)]: Using backend LokyBackend with 2 concurrent workers.\n",
            "[Parallel(n_jobs=2)]: Done  30 out of  30 | elapsed:    0.1s finished\n"
          ],
          "name": "stderr"
        },
        {
          "output_type": "execute_result",
          "data": {
            "text/plain": [
              "GridSearchCV(cv=5, error_score=nan,\n",
              "             estimator=Pipeline(memory=None,\n",
              "                                steps=[('scaler',\n",
              "                                        StandardScaler(copy=True,\n",
              "                                                       with_mean=True,\n",
              "                                                       with_std=True)),\n",
              "                                       ('model',\n",
              "                                        SVC(C=1.0, break_ties=False,\n",
              "                                            cache_size=200, class_weight=None,\n",
              "                                            coef0=0.0,\n",
              "                                            decision_function_shape='ovr',\n",
              "                                            degree=3, gamma='scale',\n",
              "                                            kernel='linear', max_iter=-1,\n",
              "                                            probability=False,\n",
              "                                            random_state=None, shrinking=True,\n",
              "                                            tol=0.001, verbose=False))],\n",
              "                                verbose=False),\n",
              "             iid='deprecated', n_jobs=2,\n",
              "             param_grid=[{'model__C': [1.0, 0.1, 0.01],\n",
              "                          'model__gamma': ['scale', 'auto']}],\n",
              "             pre_dispatch='2*n_jobs', refit=True, return_train_score=False,\n",
              "             scoring=None, verbose=True)"
            ]
          },
          "metadata": {
            "tags": []
          },
          "execution_count": 120
        }
      ]
    },
    {
      "cell_type": "code",
      "metadata": {
        "id": "N4HhfZNp3elH",
        "outputId": "21f129db-260b-4e55-b3ed-49e8d7aeb0b8",
        "colab": {
          "base_uri": "https://localhost:8080/",
          "height": 194
        }
      },
      "source": [
        "gs.best_estimator_"
      ],
      "execution_count": 121,
      "outputs": [
        {
          "output_type": "execute_result",
          "data": {
            "text/plain": [
              "Pipeline(memory=None,\n",
              "         steps=[('scaler',\n",
              "                 StandardScaler(copy=True, with_mean=True, with_std=True)),\n",
              "                ('model',\n",
              "                 SVC(C=0.1, break_ties=False, cache_size=200, class_weight=None,\n",
              "                     coef0=0.0, decision_function_shape='ovr', degree=3,\n",
              "                     gamma='scale', kernel='linear', max_iter=-1,\n",
              "                     probability=False, random_state=None, shrinking=True,\n",
              "                     tol=0.001, verbose=False))],\n",
              "         verbose=False)"
            ]
          },
          "metadata": {
            "tags": []
          },
          "execution_count": 121
        }
      ]
    },
    {
      "cell_type": "code",
      "metadata": {
        "id": "Pqd8unSY3elK",
        "outputId": "267f783e-9ba1-4e6d-bafe-c3580b94c0d9",
        "colab": {
          "base_uri": "https://localhost:8080/",
          "height": 194
        }
      },
      "source": [
        "model = gs.best_estimator_\n",
        "model.fit(X_train, y_train)"
      ],
      "execution_count": 122,
      "outputs": [
        {
          "output_type": "execute_result",
          "data": {
            "text/plain": [
              "Pipeline(memory=None,\n",
              "         steps=[('scaler',\n",
              "                 StandardScaler(copy=True, with_mean=True, with_std=True)),\n",
              "                ('model',\n",
              "                 SVC(C=0.1, break_ties=False, cache_size=200, class_weight=None,\n",
              "                     coef0=0.0, decision_function_shape='ovr', degree=3,\n",
              "                     gamma='scale', kernel='linear', max_iter=-1,\n",
              "                     probability=False, random_state=None, shrinking=True,\n",
              "                     tol=0.001, verbose=False))],\n",
              "         verbose=False)"
            ]
          },
          "metadata": {
            "tags": []
          },
          "execution_count": 122
        }
      ]
    },
    {
      "cell_type": "code",
      "metadata": {
        "id": "FNLf12Wo3elS",
        "outputId": "8d65dc73-c1ee-456c-cb6e-330567ec42d4",
        "colab": {
          "base_uri": "https://localhost:8080/",
          "height": 52
        }
      },
      "source": [
        "print(\"학습 데이터 점수: {}\".format(model.score(X_train, y_train)))\n",
        "print(\"평가 데이터 점수: {}\".format(model.score(X_test, y_test)))"
      ],
      "execution_count": 123,
      "outputs": [
        {
          "output_type": "stream",
          "text": [
            "학습 데이터 점수: 0.9929577464788732\n",
            "평가 데이터 점수: 1.0\n"
          ],
          "name": "stdout"
        }
      ]
    },
    {
      "cell_type": "markdown",
      "metadata": {
        "id": "NKavNYlxN1fB"
      },
      "source": [
        "## Kernel SVC"
      ]
    },
    {
      "cell_type": "markdown",
      "metadata": {
        "id": "M7QkeGrdOAxV"
      },
      "source": [
        "### 유방암"
      ]
    },
    {
      "cell_type": "code",
      "metadata": {
        "id": "-3GU48_P4Uy5"
      },
      "source": [
        "X, y = load_breast_cancer(return_X_y=True)\n",
        "X_train, X_test, y_train, y_test = train_test_split(X, y ,test_size=0.2)"
      ],
      "execution_count": 124,
      "outputs": []
    },
    {
      "cell_type": "code",
      "metadata": {
        "id": "6YS-pauz4Uy-"
      },
      "source": [
        "scaler = StandardScaler()\n",
        "scaler.fit(X_train)\n",
        "X_train = scaler.transform(X_train)\n",
        "X_test = scaler.transform(X_test)"
      ],
      "execution_count": 125,
      "outputs": []
    },
    {
      "cell_type": "code",
      "metadata": {
        "id": "1k4_ZoqT4UzG",
        "outputId": "7688db88-a52e-452e-f3ce-1a27164fdf5e",
        "colab": {
          "base_uri": "https://localhost:8080/",
          "height": 87
        }
      },
      "source": [
        "model = SVC(kernel='rbf')\n",
        "model.fit(X_train, y_train)"
      ],
      "execution_count": 126,
      "outputs": [
        {
          "output_type": "execute_result",
          "data": {
            "text/plain": [
              "SVC(C=1.0, break_ties=False, cache_size=200, class_weight=None, coef0=0.0,\n",
              "    decision_function_shape='ovr', degree=3, gamma='scale', kernel='rbf',\n",
              "    max_iter=-1, probability=False, random_state=None, shrinking=True,\n",
              "    tol=0.001, verbose=False)"
            ]
          },
          "metadata": {
            "tags": []
          },
          "execution_count": 126
        }
      ]
    },
    {
      "cell_type": "code",
      "metadata": {
        "id": "T-jx4dFI4UzP",
        "outputId": "df357ebd-5997-4132-8f0e-bf8969ecf714",
        "colab": {
          "base_uri": "https://localhost:8080/",
          "height": 52
        }
      },
      "source": [
        "print(\"학습 데이터 점수: {}\".format(model.score(X_train, y_train)))\n",
        "print(\"평가 데이터 점수: {}\".format(model.score(X_test, y_test)))"
      ],
      "execution_count": 127,
      "outputs": [
        {
          "output_type": "stream",
          "text": [
            "학습 데이터 점수: 0.989010989010989\n",
            "평가 데이터 점수: 0.9736842105263158\n"
          ],
          "name": "stdout"
        }
      ]
    },
    {
      "cell_type": "code",
      "metadata": {
        "id": "tIrdAbQV4Uze"
      },
      "source": [
        "X_comp = TSNE(n_components = 2).fit_transform(X)\n",
        "X0, X1 = X_comp[:,0], X_comp[:,1]\n",
        "xx, yy = make_meshgrid(X0, X1)"
      ],
      "execution_count": 128,
      "outputs": []
    },
    {
      "cell_type": "code",
      "metadata": {
        "id": "MDya-Dea4Uzm",
        "outputId": "f4906b66-be1d-49e8-a6e9-6f3de293e340",
        "colab": {
          "base_uri": "https://localhost:8080/",
          "height": 264
        }
      },
      "source": [
        "model.fit(X_comp, y)\n",
        "\n",
        "plot_contours(model, xx, yy, cmap=plt.cm.coolwarm, alpha=0.7)\n",
        "plt.scatter(X0, X1, c=y, cmap = plt.cm.coolwarm, s=20, edgecolors='k');"
      ],
      "execution_count": 129,
      "outputs": [
        {
          "output_type": "display_data",
          "data": {
            "image/png": "[encoded data removed]",
            "text/plain": [
              "<Figure size 432x288 with 1 Axes>"
            ]
          },
          "metadata": {
            "tags": []
          }
        }
      ]
    },
    {
      "cell_type": "code",
      "metadata": {
        "id": "RzXtSNoC4Uzs",
        "outputId": "0b9f9951-25e0-4ba5-bee4-4de41270584c",
        "colab": {
          "base_uri": "https://localhost:8080/",
          "height": 125
        }
      },
      "source": [
        "estimator = make_pipeline(StandardScaler(), SVC(kernel=\"rbf\"))\n",
        "\n",
        "cross_validate(\n",
        "    estimator=estimator,\n",
        "    X= X, y= y,\n",
        "    cv= 5,\n",
        "    n_jobs = multiprocessing.cpu_count(),\n",
        "    verbose=True\n",
        ")"
      ],
      "execution_count": 131,
      "outputs": [
        {
          "output_type": "stream",
          "text": [
            "[Parallel(n_jobs=2)]: Using backend LokyBackend with 2 concurrent workers.\n",
            "[Parallel(n_jobs=2)]: Done   5 out of   5 | elapsed:    0.0s finished\n"
          ],
          "name": "stderr"
        },
        {
          "output_type": "execute_result",
          "data": {
            "text/plain": [
              "{'fit_time': array([0.01035929, 0.00795054, 0.00852704, 0.00781941, 0.00667357]),\n",
              " 'score_time': array([0.00182199, 0.00406623, 0.00185108, 0.00188327, 0.00125504]),\n",
              " 'test_score': array([0.97368421, 0.95614035, 1.        , 0.96491228, 0.97345133])}"
            ]
          },
          "metadata": {
            "tags": []
          },
          "execution_count": 131
        }
      ]
    },
    {
      "cell_type": "code",
      "metadata": {
        "id": "7TQvDg9V4Uzv",
        "outputId": "d09f49fc-bdad-4fab-e40c-a80934e21475",
        "colab": {
          "base_uri": "https://localhost:8080/",
          "height": 461
        }
      },
      "source": [
        "pipe = Pipeline([(\"scaler\", StandardScaler()),\n",
        "                 (\"model\", SVC(kernel='rbf'))])\n",
        "\n",
        "param_grid = [{'model__gamma': ['scale', 'auto'],\n",
        "               \"model__C\": [1.0, 0.1, 0.01]}]\n",
        "\n",
        "gs = GridSearchCV(\n",
        "    estimator = pipe,\n",
        "    param_grid = param_grid,\n",
        "    n_jobs = multiprocessing.cpu_count(),\n",
        "    cv = 5,\n",
        "    verbose=True\n",
        ")\n",
        "\n",
        "gs.fit(X, y)"
      ],
      "execution_count": 132,
      "outputs": [
        {
          "output_type": "stream",
          "text": [
            "Fitting 5 folds for each of 6 candidates, totalling 30 fits\n"
          ],
          "name": "stdout"
        },
        {
          "output_type": "stream",
          "text": [
            "[Parallel(n_jobs=2)]: Using backend LokyBackend with 2 concurrent workers.\n",
            "[Parallel(n_jobs=2)]: Done  30 out of  30 | elapsed:    0.3s finished\n"
          ],
          "name": "stderr"
        },
        {
          "output_type": "execute_result",
          "data": {
            "text/plain": [
              "GridSearchCV(cv=5, error_score=nan,\n",
              "             estimator=Pipeline(memory=None,\n",
              "                                steps=[('scaler',\n",
              "                                        StandardScaler(copy=True,\n",
              "                                                       with_mean=True,\n",
              "                                                       with_std=True)),\n",
              "                                       ('model',\n",
              "                                        SVC(C=1.0, break_ties=False,\n",
              "                                            cache_size=200, class_weight=None,\n",
              "                                            coef0=0.0,\n",
              "                                            decision_function_shape='ovr',\n",
              "                                            degree=3, gamma='scale',\n",
              "                                            kernel='rbf', max_iter=-1,\n",
              "                                            probability=False,\n",
              "                                            random_state=None, shrinking=True,\n",
              "                                            tol=0.001, verbose=False))],\n",
              "                                verbose=False),\n",
              "             iid='deprecated', n_jobs=2,\n",
              "             param_grid=[{'model__C': [1.0, 0.1, 0.01],\n",
              "                          'model__gamma': ['scale', 'auto']}],\n",
              "             pre_dispatch='2*n_jobs', refit=True, return_train_score=False,\n",
              "             scoring=None, verbose=True)"
            ]
          },
          "metadata": {
            "tags": []
          },
          "execution_count": 132
        }
      ]
    },
    {
      "cell_type": "code",
      "metadata": {
        "id": "LmM25L8E4Uz8",
        "outputId": "99036b8e-4875-47d0-ae51-751cc304b9f2",
        "colab": {
          "base_uri": "https://localhost:8080/",
          "height": 194
        }
      },
      "source": [
        "gs.best_estimator_"
      ],
      "execution_count": 133,
      "outputs": [
        {
          "output_type": "execute_result",
          "data": {
            "text/plain": [
              "Pipeline(memory=None,\n",
              "         steps=[('scaler',\n",
              "                 StandardScaler(copy=True, with_mean=True, with_std=True)),\n",
              "                ('model',\n",
              "                 SVC(C=1.0, break_ties=False, cache_size=200, class_weight=None,\n",
              "                     coef0=0.0, decision_function_shape='ovr', degree=3,\n",
              "                     gamma='scale', kernel='rbf', max_iter=-1,\n",
              "                     probability=False, random_state=None, shrinking=True,\n",
              "                     tol=0.001, verbose=False))],\n",
              "         verbose=False)"
            ]
          },
          "metadata": {
            "tags": []
          },
          "execution_count": 133
        }
      ]
    },
    {
      "cell_type": "code",
      "metadata": {
        "id": "eq96pq_D4U0L",
        "outputId": "c5e36de7-c905-4744-96c6-96baaf662a9e",
        "colab": {
          "base_uri": "https://localhost:8080/",
          "height": 194
        }
      },
      "source": [
        "model = gs.best_estimator_\n",
        "model.fit(X_train, y_train)"
      ],
      "execution_count": 134,
      "outputs": [
        {
          "output_type": "execute_result",
          "data": {
            "text/plain": [
              "Pipeline(memory=None,\n",
              "         steps=[('scaler',\n",
              "                 StandardScaler(copy=True, with_mean=True, with_std=True)),\n",
              "                ('model',\n",
              "                 SVC(C=1.0, break_ties=False, cache_size=200, class_weight=None,\n",
              "                     coef0=0.0, decision_function_shape='ovr', degree=3,\n",
              "                     gamma='scale', kernel='rbf', max_iter=-1,\n",
              "                     probability=False, random_state=None, shrinking=True,\n",
              "                     tol=0.001, verbose=False))],\n",
              "         verbose=False)"
            ]
          },
          "metadata": {
            "tags": []
          },
          "execution_count": 134
        }
      ]
    },
    {
      "cell_type": "code",
      "metadata": {
        "id": "sXtnHmyc4U0Q",
        "outputId": "33b7c7ad-d7eb-4efe-9673-9b4f6432da6c",
        "colab": {
          "base_uri": "https://localhost:8080/",
          "height": 52
        }
      },
      "source": [
        "print(\"학습 데이터 점수: {}\".format(model.score(X_train, y_train)))\n",
        "print(\"평가 데이터 점수: {}\".format(model.score(X_test, y_test)))"
      ],
      "execution_count": 135,
      "outputs": [
        {
          "output_type": "stream",
          "text": [
            "학습 데이터 점수: 0.989010989010989\n",
            "평가 데이터 점수: 0.9736842105263158\n"
          ],
          "name": "stdout"
        }
      ]
    },
    {
      "cell_type": "markdown",
      "metadata": {
        "id": "8488abTBN-GA"
      },
      "source": [
        "### 붓꽃"
      ]
    },
    {
      "cell_type": "code",
      "metadata": {
        "id": "wQ7vgSSg5h3x"
      },
      "source": [
        "X, y = load_iris(return_X_y=True)\n",
        "X_train, X_test, y_train, y_test = train_test_split(X, y ,test_size=0.2)"
      ],
      "execution_count": 137,
      "outputs": []
    },
    {
      "cell_type": "code",
      "metadata": {
        "id": "Q-1qfgH55h32"
      },
      "source": [
        "scaler = StandardScaler()\n",
        "scaler.fit(X_train)\n",
        "X_train = scaler.transform(X_train)\n",
        "X_test = scaler.transform(X_test)"
      ],
      "execution_count": 138,
      "outputs": []
    },
    {
      "cell_type": "code",
      "metadata": {
        "id": "64jVMFVf5h39",
        "outputId": "558eec76-85b0-404e-f731-16477a8c894c",
        "colab": {
          "base_uri": "https://localhost:8080/",
          "height": 87
        }
      },
      "source": [
        "model = SVC(kernel='rbf')\n",
        "model.fit(X_train, y_train)"
      ],
      "execution_count": 139,
      "outputs": [
        {
          "output_type": "execute_result",
          "data": {
            "text/plain": [
              "SVC(C=1.0, break_ties=False, cache_size=200, class_weight=None, coef0=0.0,\n",
              "    decision_function_shape='ovr', degree=3, gamma='scale', kernel='rbf',\n",
              "    max_iter=-1, probability=False, random_state=None, shrinking=True,\n",
              "    tol=0.001, verbose=False)"
            ]
          },
          "metadata": {
            "tags": []
          },
          "execution_count": 139
        }
      ]
    },
    {
      "cell_type": "code",
      "metadata": {
        "id": "_TDYiASN5h4H",
        "outputId": "b92e543d-f532-4a3f-df81-209c65e9a5ef",
        "colab": {
          "base_uri": "https://localhost:8080/",
          "height": 52
        }
      },
      "source": [
        "print(\"학습 데이터 점수: {}\".format(model.score(X_train, y_train)))\n",
        "print(\"평가 데이터 점수: {}\".format(model.score(X_test, y_test)))"
      ],
      "execution_count": 140,
      "outputs": [
        {
          "output_type": "stream",
          "text": [
            "학습 데이터 점수: 0.9666666666666667\n",
            "평가 데이터 점수: 1.0\n"
          ],
          "name": "stdout"
        }
      ]
    },
    {
      "cell_type": "code",
      "metadata": {
        "id": "C2SYzJEh5h4N"
      },
      "source": [
        "X_comp = TSNE(n_components = 2).fit_transform(X)\n",
        "X0, X1 = X_comp[:,0], X_comp[:,1]\n",
        "xx, yy = make_meshgrid(X0, X1)"
      ],
      "execution_count": 141,
      "outputs": []
    },
    {
      "cell_type": "code",
      "metadata": {
        "id": "kg9I62yl5h4V",
        "outputId": "94617a28-0b63-4f64-b3c3-2fc3b0c5d486",
        "colab": {
          "base_uri": "https://localhost:8080/",
          "height": 262
        }
      },
      "source": [
        "model.fit(X_comp, y)\n",
        "\n",
        "plot_contours(model, xx, yy, cmap=plt.cm.coolwarm, alpha=0.7)\n",
        "plt.scatter(X0, X1, c=y, cmap = plt.cm.coolwarm, s=20, edgecolors='k');"
      ],
      "execution_count": 142,
      "outputs": [
        {
          "output_type": "display_data",
          "data": {
            "image/png": "[encoded data removed]",
            "text/plain": [
              "<Figure size 432x288 with 1 Axes>"
            ]
          },
          "metadata": {
            "tags": []
          }
        }
      ]
    },
    {
      "cell_type": "code",
      "metadata": {
        "id": "a0RE-EGU5h4q",
        "outputId": "d03107d6-cd51-45af-b801-9fab4df7bc35",
        "colab": {
          "base_uri": "https://localhost:8080/",
          "height": 125
        }
      },
      "source": [
        "estimator = make_pipeline(StandardScaler(), SVC(kernel=\"rbf\"))\n",
        "\n",
        "cross_validate(\n",
        "    estimator=estimator,\n",
        "    X= X, y= y,\n",
        "    cv= 5,\n",
        "    n_jobs = multiprocessing.cpu_count(),\n",
        "    verbose=True\n",
        ")"
      ],
      "execution_count": 143,
      "outputs": [
        {
          "output_type": "stream",
          "text": [
            "[Parallel(n_jobs=2)]: Using backend LokyBackend with 2 concurrent workers.\n",
            "[Parallel(n_jobs=2)]: Done   5 out of   5 | elapsed:    0.0s finished\n"
          ],
          "name": "stderr"
        },
        {
          "output_type": "execute_result",
          "data": {
            "text/plain": [
              "{'fit_time': array([0.00576615, 0.00312018, 0.00254989, 0.00142765, 0.00167251]),\n",
              " 'score_time': array([0.00079656, 0.00083208, 0.0006845 , 0.0034709 , 0.00049019]),\n",
              " 'test_score': array([0.96666667, 0.96666667, 0.96666667, 0.93333333, 1.        ])}"
            ]
          },
          "metadata": {
            "tags": []
          },
          "execution_count": 143
        }
      ]
    },
    {
      "cell_type": "code",
      "metadata": {
        "id": "tJz3ARib5h44",
        "outputId": "881798c2-f8b8-479a-ffa3-fa00067582ca",
        "colab": {
          "base_uri": "https://localhost:8080/",
          "height": 461
        }
      },
      "source": [
        "pipe = Pipeline([(\"scaler\", StandardScaler()),\n",
        "                 (\"model\", SVC(kernel='rbf'))])\n",
        "\n",
        "param_grid = [{'model__gamma': ['scale', 'auto'],\n",
        "               \"model__C\": [1.0, 0.1, 0.01]}]\n",
        "\n",
        "gs = GridSearchCV(\n",
        "    estimator = pipe,\n",
        "    param_grid = param_grid,\n",
        "    n_jobs = multiprocessing.cpu_count(),\n",
        "    cv = 5,\n",
        "    verbose=True\n",
        ")\n",
        "\n",
        "gs.fit(X, y)"
      ],
      "execution_count": 144,
      "outputs": [
        {
          "output_type": "stream",
          "text": [
            "Fitting 5 folds for each of 6 candidates, totalling 30 fits\n"
          ],
          "name": "stdout"
        },
        {
          "output_type": "stream",
          "text": [
            "[Parallel(n_jobs=2)]: Using backend LokyBackend with 2 concurrent workers.\n",
            "[Parallel(n_jobs=2)]: Done  30 out of  30 | elapsed:    0.1s finished\n"
          ],
          "name": "stderr"
        },
        {
          "output_type": "execute_result",
          "data": {
            "text/plain": [
              "GridSearchCV(cv=5, error_score=nan,\n",
              "             estimator=Pipeline(memory=None,\n",
              "                                steps=[('scaler',\n",
              "                                        StandardScaler(copy=True,\n",
              "                                                       with_mean=True,\n",
              "                                                       with_std=True)),\n",
              "                                       ('model',\n",
              "                                        SVC(C=1.0, break_ties=False,\n",
              "                                            cache_size=200, class_weight=None,\n",
              "                                            coef0=0.0,\n",
              "                                            decision_function_shape='ovr',\n",
              "                                            degree=3, gamma='scale',\n",
              "                                            kernel='rbf', max_iter=-1,\n",
              "                                            probability=False,\n",
              "                                            random_state=None, shrinking=True,\n",
              "                                            tol=0.001, verbose=False))],\n",
              "                                verbose=False),\n",
              "             iid='deprecated', n_jobs=2,\n",
              "             param_grid=[{'model__C': [1.0, 0.1, 0.01],\n",
              "                          'model__gamma': ['scale', 'auto']}],\n",
              "             pre_dispatch='2*n_jobs', refit=True, return_train_score=False,\n",
              "             scoring=None, verbose=True)"
            ]
          },
          "metadata": {
            "tags": []
          },
          "execution_count": 144
        }
      ]
    },
    {
      "cell_type": "code",
      "metadata": {
        "id": "PS4xubM05h5E",
        "outputId": "d30357d9-15a4-40dd-da17-aa1efd66874a",
        "colab": {
          "base_uri": "https://localhost:8080/",
          "height": 194
        }
      },
      "source": [
        "gs.best_estimator_"
      ],
      "execution_count": 145,
      "outputs": [
        {
          "output_type": "execute_result",
          "data": {
            "text/plain": [
              "Pipeline(memory=None,\n",
              "         steps=[('scaler',\n",
              "                 StandardScaler(copy=True, with_mean=True, with_std=True)),\n",
              "                ('model',\n",
              "                 SVC(C=1.0, break_ties=False, cache_size=200, class_weight=None,\n",
              "                     coef0=0.0, decision_function_shape='ovr', degree=3,\n",
              "                     gamma='scale', kernel='rbf', max_iter=-1,\n",
              "                     probability=False, random_state=None, shrinking=True,\n",
              "                     tol=0.001, verbose=False))],\n",
              "         verbose=False)"
            ]
          },
          "metadata": {
            "tags": []
          },
          "execution_count": 145
        }
      ]
    },
    {
      "cell_type": "code",
      "metadata": {
        "id": "los9De7S5h5P",
        "outputId": "ed5c24db-b9ce-49f4-b63d-8521f2429f95",
        "colab": {
          "base_uri": "https://localhost:8080/",
          "height": 194
        }
      },
      "source": [
        "model = gs.best_estimator_\n",
        "model.fit(X_train, y_train)"
      ],
      "execution_count": 146,
      "outputs": [
        {
          "output_type": "execute_result",
          "data": {
            "text/plain": [
              "Pipeline(memory=None,\n",
              "         steps=[('scaler',\n",
              "                 StandardScaler(copy=True, with_mean=True, with_std=True)),\n",
              "                ('model',\n",
              "                 SVC(C=1.0, break_ties=False, cache_size=200, class_weight=None,\n",
              "                     coef0=0.0, decision_function_shape='ovr', degree=3,\n",
              "                     gamma='scale', kernel='rbf', max_iter=-1,\n",
              "                     probability=False, random_state=None, shrinking=True,\n",
              "                     tol=0.001, verbose=False))],\n",
              "         verbose=False)"
            ]
          },
          "metadata": {
            "tags": []
          },
          "execution_count": 146
        }
      ]
    },
    {
      "cell_type": "code",
      "metadata": {
        "id": "NAKzWPj45h5X",
        "outputId": "3a1b6003-e853-4617-d5a1-204969767875",
        "colab": {
          "base_uri": "https://localhost:8080/",
          "height": 52
        }
      },
      "source": [
        "print(\"학습 데이터 점수: {}\".format(model.score(X_train, y_train)))\n",
        "print(\"평가 데이터 점수: {}\".format(model.score(X_test, y_test)))"
      ],
      "execution_count": 147,
      "outputs": [
        {
          "output_type": "stream",
          "text": [
            "학습 데이터 점수: 0.9666666666666667\n",
            "평가 데이터 점수: 1.0\n"
          ],
          "name": "stdout"
        }
      ]
    },
    {
      "cell_type": "markdown",
      "metadata": {
        "id": "nidX5eMZ3ncE"
      },
      "source": [
        "### 와인"
      ]
    },
    {
      "cell_type": "code",
      "metadata": {
        "id": "CLMffhqo6ZM6"
      },
      "source": [
        "X, y = load_wine(return_X_y=True)\n",
        "X_train, X_test, y_train, y_test = train_test_split(X, y ,test_size=0.2)"
      ],
      "execution_count": 148,
      "outputs": []
    },
    {
      "cell_type": "code",
      "metadata": {
        "id": "7iv3iePS6ZNJ"
      },
      "source": [
        "scaler = StandardScaler()\n",
        "scaler.fit(X_train)\n",
        "X_train = scaler.transform(X_train)\n",
        "X_test = scaler.transform(X_test)"
      ],
      "execution_count": 149,
      "outputs": []
    },
    {
      "cell_type": "code",
      "metadata": {
        "id": "GMaORx3F6ZNT",
        "outputId": "c040ead3-54b9-4c57-9e97-1e01f5ddf1dd",
        "colab": {
          "base_uri": "https://localhost:8080/",
          "height": 87
        }
      },
      "source": [
        "model = SVC(kernel='rbf')\n",
        "model.fit(X_train, y_train)"
      ],
      "execution_count": 150,
      "outputs": [
        {
          "output_type": "execute_result",
          "data": {
            "text/plain": [
              "SVC(C=1.0, break_ties=False, cache_size=200, class_weight=None, coef0=0.0,\n",
              "    decision_function_shape='ovr', degree=3, gamma='scale', kernel='rbf',\n",
              "    max_iter=-1, probability=False, random_state=None, shrinking=True,\n",
              "    tol=0.001, verbose=False)"
            ]
          },
          "metadata": {
            "tags": []
          },
          "execution_count": 150
        }
      ]
    },
    {
      "cell_type": "code",
      "metadata": {
        "id": "MXMFCsRY6ZNr",
        "outputId": "244e6291-bcf6-49bb-fcef-37ffbb847b09",
        "colab": {
          "base_uri": "https://localhost:8080/",
          "height": 52
        }
      },
      "source": [
        "print(\"학습 데이터 점수: {}\".format(model.score(X_train, y_train)))\n",
        "print(\"평가 데이터 점수: {}\".format(model.score(X_test, y_test)))"
      ],
      "execution_count": 151,
      "outputs": [
        {
          "output_type": "stream",
          "text": [
            "학습 데이터 점수: 1.0\n",
            "평가 데이터 점수: 0.9722222222222222\n"
          ],
          "name": "stdout"
        }
      ]
    },
    {
      "cell_type": "code",
      "metadata": {
        "id": "6AM7gt_U6ZN2"
      },
      "source": [
        "X_comp = TSNE(n_components = 2).fit_transform(X)\n",
        "X0, X1 = X_comp[:,0], X_comp[:,1]\n",
        "xx, yy = make_meshgrid(X0, X1)"
      ],
      "execution_count": 152,
      "outputs": []
    },
    {
      "cell_type": "code",
      "metadata": {
        "id": "m7RS1cIf6ZN9",
        "outputId": "54b1687f-4d7e-479b-e162-96ec3ecefdec",
        "colab": {
          "base_uri": "https://localhost:8080/",
          "height": 262
        }
      },
      "source": [
        "model.fit(X_comp, y)\n",
        "\n",
        "plot_contours(model, xx, yy, cmap=plt.cm.coolwarm, alpha=0.7)\n",
        "plt.scatter(X0, X1, c=y, cmap = plt.cm.coolwarm, s=20, edgecolors='k');"
      ],
      "execution_count": 153,
      "outputs": [
        {
          "output_type": "display_data",
          "data": {
            "image/png": "[encoded data removed]",
            "text/plain": [
              "<Figure size 432x288 with 1 Axes>"
            ]
          },
          "metadata": {
            "tags": []
          }
        }
      ]
    },
    {
      "cell_type": "code",
      "metadata": {
        "id": "l3HGyVX36ZOP",
        "outputId": "66b60865-d953-4862-8e17-5c32f2c113f6",
        "colab": {
          "base_uri": "https://localhost:8080/",
          "height": 125
        }
      },
      "source": [
        "estimator = make_pipeline(StandardScaler(), SVC(kernel=\"rbf\"))\n",
        "\n",
        "cross_validate(\n",
        "    estimator=estimator,\n",
        "    X= X, y= y,\n",
        "    cv= 5,\n",
        "    n_jobs = multiprocessing.cpu_count(),\n",
        "    verbose=True\n",
        ")"
      ],
      "execution_count": 154,
      "outputs": [
        {
          "output_type": "stream",
          "text": [
            "[Parallel(n_jobs=2)]: Using backend LokyBackend with 2 concurrent workers.\n",
            "[Parallel(n_jobs=2)]: Done   5 out of   5 | elapsed:    0.0s finished\n"
          ],
          "name": "stderr"
        },
        {
          "output_type": "execute_result",
          "data": {
            "text/plain": [
              "{'fit_time': array([0.00275874, 0.00294805, 0.0073688 , 0.00209332, 0.00245404]),\n",
              " 'score_time': array([0.00811744, 0.00190806, 0.00069189, 0.00063062, 0.00065112]),\n",
              " 'test_score': array([1.        , 0.97222222, 0.94444444, 1.        , 1.        ])}"
            ]
          },
          "metadata": {
            "tags": []
          },
          "execution_count": 154
        }
      ]
    },
    {
      "cell_type": "code",
      "metadata": {
        "id": "wmMAJTwg6ZOc",
        "outputId": "fa9a5e4f-67e6-4468-9f53-47044bbcc963",
        "colab": {
          "base_uri": "https://localhost:8080/",
          "height": 461
        }
      },
      "source": [
        "pipe = Pipeline([(\"scaler\", StandardScaler()),\n",
        "                 (\"model\", SVC(kernel='rbf'))])\n",
        "\n",
        "param_grid = [{'model__gamma': ['scale', 'auto'],\n",
        "               \"model__C\": [1.0, 0.1, 0.01]}]\n",
        "\n",
        "gs = GridSearchCV(\n",
        "    estimator = pipe,\n",
        "    param_grid = param_grid,\n",
        "    n_jobs = multiprocessing.cpu_count(),\n",
        "    cv = 5,\n",
        "    verbose=True\n",
        ")\n",
        "\n",
        "gs.fit(X, y)"
      ],
      "execution_count": 155,
      "outputs": [
        {
          "output_type": "stream",
          "text": [
            "Fitting 5 folds for each of 6 candidates, totalling 30 fits\n"
          ],
          "name": "stdout"
        },
        {
          "output_type": "stream",
          "text": [
            "[Parallel(n_jobs=2)]: Using backend LokyBackend with 2 concurrent workers.\n",
            "[Parallel(n_jobs=2)]: Done  30 out of  30 | elapsed:    0.1s finished\n"
          ],
          "name": "stderr"
        },
        {
          "output_type": "execute_result",
          "data": {
            "text/plain": [
              "GridSearchCV(cv=5, error_score=nan,\n",
              "             estimator=Pipeline(memory=None,\n",
              "                                steps=[('scaler',\n",
              "                                        StandardScaler(copy=True,\n",
              "                                                       with_mean=True,\n",
              "                                                       with_std=True)),\n",
              "                                       ('model',\n",
              "                                        SVC(C=1.0, break_ties=False,\n",
              "                                            cache_size=200, class_weight=None,\n",
              "                                            coef0=0.0,\n",
              "                                            decision_function_shape='ovr',\n",
              "                                            degree=3, gamma='scale',\n",
              "                                            kernel='rbf', max_iter=-1,\n",
              "                                            probability=False,\n",
              "                                            random_state=None, shrinking=True,\n",
              "                                            tol=0.001, verbose=False))],\n",
              "                                verbose=False),\n",
              "             iid='deprecated', n_jobs=2,\n",
              "             param_grid=[{'model__C': [1.0, 0.1, 0.01],\n",
              "                          'model__gamma': ['scale', 'auto']}],\n",
              "             pre_dispatch='2*n_jobs', refit=True, return_train_score=False,\n",
              "             scoring=None, verbose=True)"
            ]
          },
          "metadata": {
            "tags": []
          },
          "execution_count": 155
        }
      ]
    },
    {
      "cell_type": "code",
      "metadata": {
        "id": "40_BBUJm6ZOp",
        "outputId": "18bedfb5-8228-49d3-e31d-e55266131586",
        "colab": {
          "base_uri": "https://localhost:8080/",
          "height": 194
        }
      },
      "source": [
        "gs.best_estimator_"
      ],
      "execution_count": 156,
      "outputs": [
        {
          "output_type": "execute_result",
          "data": {
            "text/plain": [
              "Pipeline(memory=None,\n",
              "         steps=[('scaler',\n",
              "                 StandardScaler(copy=True, with_mean=True, with_std=True)),\n",
              "                ('model',\n",
              "                 SVC(C=1.0, break_ties=False, cache_size=200, class_weight=None,\n",
              "                     coef0=0.0, decision_function_shape='ovr', degree=3,\n",
              "                     gamma='scale', kernel='rbf', max_iter=-1,\n",
              "                     probability=False, random_state=None, shrinking=True,\n",
              "                     tol=0.001, verbose=False))],\n",
              "         verbose=False)"
            ]
          },
          "metadata": {
            "tags": []
          },
          "execution_count": 156
        }
      ]
    },
    {
      "cell_type": "code",
      "metadata": {
        "id": "zUDkT4kp6ZOs",
        "outputId": "1b2e19ec-fd41-4c16-d11e-d8b750f633b9",
        "colab": {
          "base_uri": "https://localhost:8080/",
          "height": 194
        }
      },
      "source": [
        "model = gs.best_estimator_\n",
        "model.fit(X_train, y_train)"
      ],
      "execution_count": 157,
      "outputs": [
        {
          "output_type": "execute_result",
          "data": {
            "text/plain": [
              "Pipeline(memory=None,\n",
              "         steps=[('scaler',\n",
              "                 StandardScaler(copy=True, with_mean=True, with_std=True)),\n",
              "                ('model',\n",
              "                 SVC(C=1.0, break_ties=False, cache_size=200, class_weight=None,\n",
              "                     coef0=0.0, decision_function_shape='ovr', degree=3,\n",
              "                     gamma='scale', kernel='rbf', max_iter=-1,\n",
              "                     probability=False, random_state=None, shrinking=True,\n",
              "                     tol=0.001, verbose=False))],\n",
              "         verbose=False)"
            ]
          },
          "metadata": {
            "tags": []
          },
          "execution_count": 157
        }
      ]
    },
    {
      "cell_type": "code",
      "metadata": {
        "id": "eM405lsT6ZO2",
        "outputId": "cb84eb8a-0491-484e-b560-ab69b904ec5b",
        "colab": {
          "base_uri": "https://localhost:8080/",
          "height": 52
        }
      },
      "source": [
        "print(\"학습 데이터 점수: {}\".format(model.score(X_train, y_train)))\n",
        "print(\"평가 데이터 점수: {}\".format(model.score(X_test, y_test)))"
      ],
      "execution_count": 158,
      "outputs": [
        {
          "output_type": "stream",
          "text": [
            "학습 데이터 점수: 1.0\n",
            "평가 데이터 점수: 0.9722222222222222\n"
          ],
          "name": "stdout"
        }
      ]
    }
  ]
}